{
 "metadata": {
  "language_info": {
   "codemirror_mode": {
    "name": "ipython",
    "version": 3
   },
   "file_extension": ".py",
   "mimetype": "text/x-python",
   "name": "python",
   "nbconvert_exporter": "python",
   "pygments_lexer": "ipython3",
   "version": "3.8.5-final"
  },
  "orig_nbformat": 2,
  "kernelspec": {
   "name": "python3",
   "display_name": "Python 3.8.5 64-bit ('base': conda)",
   "metadata": {
    "interpreter": {
     "hash": "0d11504f513c5e2def777fde2fc0ed1708473377b7f6cf3a9f97260f806eeb3f"
    }
   }
  }
 },
 "nbformat": 4,
 "nbformat_minor": 2,
 "cells": [
  {
   "cell_type": "code",
   "execution_count": 4,
   "metadata": {},
   "outputs": [],
   "source": [
    "import pandas as pd"
   ]
  },
  {
   "cell_type": "code",
   "execution_count": 5,
   "metadata": {},
   "outputs": [],
   "source": [
    "dRegSeasonResults = pd.read_csv(\"../Data/MRegularSeasonDetailedResults.csv\")\n",
    "dTourneyResults = pd.read_csv(\"../Data/MNCAATourneyDetailedResults.csv\")"
   ]
  },
  {
   "cell_type": "code",
   "execution_count": 6,
   "metadata": {},
   "outputs": [
    {
     "output_type": "execute_result",
     "data": {
      "text/plain": [
       "       Season  DayNum  WTeamID  WScore  LTeamID  LScore WLoc  NumOT  WFGM  \\\n",
       "0        2003      10     1104      68     1328      62    N      0    27   \n",
       "1        2003      10     1272      70     1393      63    N      0    26   \n",
       "2        2003      11     1266      73     1437      61    N      0    24   \n",
       "3        2003      11     1296      56     1457      50    N      0    18   \n",
       "4        2003      11     1400      77     1208      71    N      0    30   \n",
       "...       ...     ...      ...     ...      ...     ...  ...    ...   ...   \n",
       "92827    2020     128     1389      56     1233      54    N      0    15   \n",
       "92828    2020     128     1393      81     1314      53    N      0    28   \n",
       "92829    2020     128     1402      85     1111      68    H      0    34   \n",
       "92830    2020     128     1412      74     1427      69    N      0    26   \n",
       "92831    2020     128     1450      82     1160      68    N      0    27   \n",
       "\n",
       "       WFGA  ...  LFGA3  LFTM  LFTA  LOR  LDR  LAst  LTO  LStl  LBlk  LPF  \n",
       "0        58  ...     10    16    22   10   22     8   18     9     2   20  \n",
       "1        62  ...     24     9    20   20   25     7   12     8     6   16  \n",
       "2        58  ...     26    14    23   31   22     9   12     2     5   23  \n",
       "3        38  ...     22     8    15   17   20     9   19     4     3   23  \n",
       "4        61  ...     16    17    27   21   15    12   10     7     1   14  \n",
       "...     ...  ...    ...   ...   ...  ...  ...   ...  ...   ...   ...  ...  \n",
       "92827    60  ...     16    18    20    4   27     6   17     8     4   20  \n",
       "92828    61  ...     16    11    13   13   29     9   18     0     1   18  \n",
       "92829    57  ...     15    25    35    8   17     6   18     7     2   18  \n",
       "92830    53  ...     27     7     7   12   22    11   13     4     2   18  \n",
       "92831    55  ...     21    22    32   10   24     4   11     4     4   19  \n",
       "\n",
       "[92832 rows x 34 columns]"
      ],
      "text/html": "<div>\n<style scoped>\n    .dataframe tbody tr th:only-of-type {\n        vertical-align: middle;\n    }\n\n    .dataframe tbody tr th {\n        vertical-align: top;\n    }\n\n    .dataframe thead th {\n        text-align: right;\n    }\n</style>\n<table border=\"1\" class=\"dataframe\">\n  <thead>\n    <tr style=\"text-align: right;\">\n      <th></th>\n      <th>Season</th>\n      <th>DayNum</th>\n      <th>WTeamID</th>\n      <th>WScore</th>\n      <th>LTeamID</th>\n      <th>LScore</th>\n      <th>WLoc</th>\n      <th>NumOT</th>\n      <th>WFGM</th>\n      <th>WFGA</th>\n      <th>...</th>\n      <th>LFGA3</th>\n      <th>LFTM</th>\n      <th>LFTA</th>\n      <th>LOR</th>\n      <th>LDR</th>\n      <th>LAst</th>\n      <th>LTO</th>\n      <th>LStl</th>\n      <th>LBlk</th>\n      <th>LPF</th>\n    </tr>\n  </thead>\n  <tbody>\n    <tr>\n      <th>0</th>\n      <td>2003</td>\n      <td>10</td>\n      <td>1104</td>\n      <td>68</td>\n      <td>1328</td>\n      <td>62</td>\n      <td>N</td>\n      <td>0</td>\n      <td>27</td>\n      <td>58</td>\n      <td>...</td>\n      <td>10</td>\n      <td>16</td>\n      <td>22</td>\n      <td>10</td>\n      <td>22</td>\n      <td>8</td>\n      <td>18</td>\n      <td>9</td>\n      <td>2</td>\n      <td>20</td>\n    </tr>\n    <tr>\n      <th>1</th>\n      <td>2003</td>\n      <td>10</td>\n      <td>1272</td>\n      <td>70</td>\n      <td>1393</td>\n      <td>63</td>\n      <td>N</td>\n      <td>0</td>\n      <td>26</td>\n      <td>62</td>\n      <td>...</td>\n      <td>24</td>\n      <td>9</td>\n      <td>20</td>\n      <td>20</td>\n      <td>25</td>\n      <td>7</td>\n      <td>12</td>\n      <td>8</td>\n      <td>6</td>\n      <td>16</td>\n    </tr>\n    <tr>\n      <th>2</th>\n      <td>2003</td>\n      <td>11</td>\n      <td>1266</td>\n      <td>73</td>\n      <td>1437</td>\n      <td>61</td>\n      <td>N</td>\n      <td>0</td>\n      <td>24</td>\n      <td>58</td>\n      <td>...</td>\n      <td>26</td>\n      <td>14</td>\n      <td>23</td>\n      <td>31</td>\n      <td>22</td>\n      <td>9</td>\n      <td>12</td>\n      <td>2</td>\n      <td>5</td>\n      <td>23</td>\n    </tr>\n    <tr>\n      <th>3</th>\n      <td>2003</td>\n      <td>11</td>\n      <td>1296</td>\n      <td>56</td>\n      <td>1457</td>\n      <td>50</td>\n      <td>N</td>\n      <td>0</td>\n      <td>18</td>\n      <td>38</td>\n      <td>...</td>\n      <td>22</td>\n      <td>8</td>\n      <td>15</td>\n      <td>17</td>\n      <td>20</td>\n      <td>9</td>\n      <td>19</td>\n      <td>4</td>\n      <td>3</td>\n      <td>23</td>\n    </tr>\n    <tr>\n      <th>4</th>\n      <td>2003</td>\n      <td>11</td>\n      <td>1400</td>\n      <td>77</td>\n      <td>1208</td>\n      <td>71</td>\n      <td>N</td>\n      <td>0</td>\n      <td>30</td>\n      <td>61</td>\n      <td>...</td>\n      <td>16</td>\n      <td>17</td>\n      <td>27</td>\n      <td>21</td>\n      <td>15</td>\n      <td>12</td>\n      <td>10</td>\n      <td>7</td>\n      <td>1</td>\n      <td>14</td>\n    </tr>\n    <tr>\n      <th>...</th>\n      <td>...</td>\n      <td>...</td>\n      <td>...</td>\n      <td>...</td>\n      <td>...</td>\n      <td>...</td>\n      <td>...</td>\n      <td>...</td>\n      <td>...</td>\n      <td>...</td>\n      <td>...</td>\n      <td>...</td>\n      <td>...</td>\n      <td>...</td>\n      <td>...</td>\n      <td>...</td>\n      <td>...</td>\n      <td>...</td>\n      <td>...</td>\n      <td>...</td>\n      <td>...</td>\n    </tr>\n    <tr>\n      <th>92827</th>\n      <td>2020</td>\n      <td>128</td>\n      <td>1389</td>\n      <td>56</td>\n      <td>1233</td>\n      <td>54</td>\n      <td>N</td>\n      <td>0</td>\n      <td>15</td>\n      <td>60</td>\n      <td>...</td>\n      <td>16</td>\n      <td>18</td>\n      <td>20</td>\n      <td>4</td>\n      <td>27</td>\n      <td>6</td>\n      <td>17</td>\n      <td>8</td>\n      <td>4</td>\n      <td>20</td>\n    </tr>\n    <tr>\n      <th>92828</th>\n      <td>2020</td>\n      <td>128</td>\n      <td>1393</td>\n      <td>81</td>\n      <td>1314</td>\n      <td>53</td>\n      <td>N</td>\n      <td>0</td>\n      <td>28</td>\n      <td>61</td>\n      <td>...</td>\n      <td>16</td>\n      <td>11</td>\n      <td>13</td>\n      <td>13</td>\n      <td>29</td>\n      <td>9</td>\n      <td>18</td>\n      <td>0</td>\n      <td>1</td>\n      <td>18</td>\n    </tr>\n    <tr>\n      <th>92829</th>\n      <td>2020</td>\n      <td>128</td>\n      <td>1402</td>\n      <td>85</td>\n      <td>1111</td>\n      <td>68</td>\n      <td>H</td>\n      <td>0</td>\n      <td>34</td>\n      <td>57</td>\n      <td>...</td>\n      <td>15</td>\n      <td>25</td>\n      <td>35</td>\n      <td>8</td>\n      <td>17</td>\n      <td>6</td>\n      <td>18</td>\n      <td>7</td>\n      <td>2</td>\n      <td>18</td>\n    </tr>\n    <tr>\n      <th>92830</th>\n      <td>2020</td>\n      <td>128</td>\n      <td>1412</td>\n      <td>74</td>\n      <td>1427</td>\n      <td>69</td>\n      <td>N</td>\n      <td>0</td>\n      <td>26</td>\n      <td>53</td>\n      <td>...</td>\n      <td>27</td>\n      <td>7</td>\n      <td>7</td>\n      <td>12</td>\n      <td>22</td>\n      <td>11</td>\n      <td>13</td>\n      <td>4</td>\n      <td>2</td>\n      <td>18</td>\n    </tr>\n    <tr>\n      <th>92831</th>\n      <td>2020</td>\n      <td>128</td>\n      <td>1450</td>\n      <td>82</td>\n      <td>1160</td>\n      <td>68</td>\n      <td>N</td>\n      <td>0</td>\n      <td>27</td>\n      <td>55</td>\n      <td>...</td>\n      <td>21</td>\n      <td>22</td>\n      <td>32</td>\n      <td>10</td>\n      <td>24</td>\n      <td>4</td>\n      <td>11</td>\n      <td>4</td>\n      <td>4</td>\n      <td>19</td>\n    </tr>\n  </tbody>\n</table>\n<p>92832 rows × 34 columns</p>\n</div>"
     },
     "metadata": {},
     "execution_count": 6
    }
   ],
   "source": [
    "dRegSeasonResults"
   ]
  },
  {
   "cell_type": "code",
   "execution_count": 7,
   "metadata": {},
   "outputs": [],
   "source": [
    "# gets 3PT Attempt Percentage\n",
    "def threeFgap(row):\n",
    "    if \"WFGA\" in row:\n",
    "        threeFgap = row[\"WFGA3\"]/float(row[\"WFGA\"])\n",
    "    else:\n",
    "        threeFgap = row[\"LFGA3\"]/float(row[\"LFGA\"])\n",
    "    return threeFgap\n",
    "# Gets 2PT Attempt percentage by taking the percent of all field goal attempts which aren't 3PTs\n",
    "def twoFgap(row):\n",
    "    if \"WFGA\" in row:\n",
    "        twoFgap = float(row[\"WFGA\"] - row[\"WFGA3\"])/float(row[\"WFGA\"])\n",
    "    else:\n",
    "        twoFgap = float(row[\"LFGA\"] - row[\"LFGA3\"])/float(row[\"LFGA\"])\n",
    "    return twoFgap"
   ]
  },
  {
   "cell_type": "code",
   "execution_count": 8,
   "metadata": {},
   "outputs": [],
   "source": [
    "dRegSeasonResults[\"WFGA%3\"] = dRegSeasonResults[[\"WFGA\", \"WFGA3\"]].apply(threeFgap, axis=1)\n",
    "dRegSeasonResults[\"WFGA%2\"] = dRegSeasonResults[[\"WFGA\", \"WFGA3\"]].apply(twoFgap, axis=1)\n",
    "dRegSeasonResults[\"LFGA%3\"] = dRegSeasonResults[[\"LFGA\", \"LFGA3\"]].apply(threeFgap, axis=1)\n",
    "dRegSeasonResults[\"LFGA%2\"] = dRegSeasonResults[[\"LFGA\", \"LFGA3\"]].apply(twoFgap, axis=1)"
   ]
  },
  {
   "cell_type": "code",
   "execution_count": 9,
   "metadata": {},
   "outputs": [
    {
     "output_type": "execute_result",
     "data": {
      "text/plain": [
       "       Season  DayNum  WTeamID  WScore  LTeamID  LScore WLoc  NumOT  WFGM  \\\n",
       "0        2003      10     1104      68     1328      62    N      0    27   \n",
       "1        2003      10     1272      70     1393      63    N      0    26   \n",
       "2        2003      11     1266      73     1437      61    N      0    24   \n",
       "3        2003      11     1296      56     1457      50    N      0    18   \n",
       "4        2003      11     1400      77     1208      71    N      0    30   \n",
       "...       ...     ...      ...     ...      ...     ...  ...    ...   ...   \n",
       "92827    2020     128     1389      56     1233      54    N      0    15   \n",
       "92828    2020     128     1393      81     1314      53    N      0    28   \n",
       "92829    2020     128     1402      85     1111      68    H      0    34   \n",
       "92830    2020     128     1412      74     1427      69    N      0    26   \n",
       "92831    2020     128     1450      82     1160      68    N      0    27   \n",
       "\n",
       "       WFGA  ...  LFTA  LOR  LDR  LAst  LTO  LStl  LBlk  LPF    WFGA%3  \\\n",
       "0        58  ...    22   10   22     8   18     9     2   20  0.241379   \n",
       "1        62  ...    20   20   25     7   12     8     6   16  0.322581   \n",
       "2        58  ...    23   31   22     9   12     2     5   23  0.310345   \n",
       "3        38  ...    15   17   20     9   19     4     3   23  0.236842   \n",
       "4        61  ...    27   21   15    12   10     7     1   14  0.229508   \n",
       "...     ...  ...   ...  ...  ...   ...  ...   ...   ...  ...       ...   \n",
       "92827    60  ...    20    4   27     6   17     8     4   20  0.400000   \n",
       "92828    61  ...    13   13   29     9   18     0     1   18  0.344262   \n",
       "92829    57  ...    35    8   17     6   18     7     2   18  0.210526   \n",
       "92830    53  ...     7   12   22    11   13     4     2   18  0.264151   \n",
       "92831    55  ...    32   10   24     4   11     4     4   19  0.381818   \n",
       "\n",
       "         LFGA%3  \n",
       "0      0.188679  \n",
       "1      0.358209  \n",
       "2      0.356164  \n",
       "3      0.448980  \n",
       "4      0.258065  \n",
       "...         ...  \n",
       "92827  0.347826  \n",
       "92828  0.266667  \n",
       "92829  0.326087  \n",
       "92830  0.402985  \n",
       "92831  0.368421  \n",
       "\n",
       "[92832 rows x 36 columns]"
      ],
      "text/html": "<div>\n<style scoped>\n    .dataframe tbody tr th:only-of-type {\n        vertical-align: middle;\n    }\n\n    .dataframe tbody tr th {\n        vertical-align: top;\n    }\n\n    .dataframe thead th {\n        text-align: right;\n    }\n</style>\n<table border=\"1\" class=\"dataframe\">\n  <thead>\n    <tr style=\"text-align: right;\">\n      <th></th>\n      <th>Season</th>\n      <th>DayNum</th>\n      <th>WTeamID</th>\n      <th>WScore</th>\n      <th>LTeamID</th>\n      <th>LScore</th>\n      <th>WLoc</th>\n      <th>NumOT</th>\n      <th>WFGM</th>\n      <th>WFGA</th>\n      <th>...</th>\n      <th>LFTA</th>\n      <th>LOR</th>\n      <th>LDR</th>\n      <th>LAst</th>\n      <th>LTO</th>\n      <th>LStl</th>\n      <th>LBlk</th>\n      <th>LPF</th>\n      <th>WFGA%3</th>\n      <th>LFGA%3</th>\n    </tr>\n  </thead>\n  <tbody>\n    <tr>\n      <th>0</th>\n      <td>2003</td>\n      <td>10</td>\n      <td>1104</td>\n      <td>68</td>\n      <td>1328</td>\n      <td>62</td>\n      <td>N</td>\n      <td>0</td>\n      <td>27</td>\n      <td>58</td>\n      <td>...</td>\n      <td>22</td>\n      <td>10</td>\n      <td>22</td>\n      <td>8</td>\n      <td>18</td>\n      <td>9</td>\n      <td>2</td>\n      <td>20</td>\n      <td>0.241379</td>\n      <td>0.188679</td>\n    </tr>\n    <tr>\n      <th>1</th>\n      <td>2003</td>\n      <td>10</td>\n      <td>1272</td>\n      <td>70</td>\n      <td>1393</td>\n      <td>63</td>\n      <td>N</td>\n      <td>0</td>\n      <td>26</td>\n      <td>62</td>\n      <td>...</td>\n      <td>20</td>\n      <td>20</td>\n      <td>25</td>\n      <td>7</td>\n      <td>12</td>\n      <td>8</td>\n      <td>6</td>\n      <td>16</td>\n      <td>0.322581</td>\n      <td>0.358209</td>\n    </tr>\n    <tr>\n      <th>2</th>\n      <td>2003</td>\n      <td>11</td>\n      <td>1266</td>\n      <td>73</td>\n      <td>1437</td>\n      <td>61</td>\n      <td>N</td>\n      <td>0</td>\n      <td>24</td>\n      <td>58</td>\n      <td>...</td>\n      <td>23</td>\n      <td>31</td>\n      <td>22</td>\n      <td>9</td>\n      <td>12</td>\n      <td>2</td>\n      <td>5</td>\n      <td>23</td>\n      <td>0.310345</td>\n      <td>0.356164</td>\n    </tr>\n    <tr>\n      <th>3</th>\n      <td>2003</td>\n      <td>11</td>\n      <td>1296</td>\n      <td>56</td>\n      <td>1457</td>\n      <td>50</td>\n      <td>N</td>\n      <td>0</td>\n      <td>18</td>\n      <td>38</td>\n      <td>...</td>\n      <td>15</td>\n      <td>17</td>\n      <td>20</td>\n      <td>9</td>\n      <td>19</td>\n      <td>4</td>\n      <td>3</td>\n      <td>23</td>\n      <td>0.236842</td>\n      <td>0.448980</td>\n    </tr>\n    <tr>\n      <th>4</th>\n      <td>2003</td>\n      <td>11</td>\n      <td>1400</td>\n      <td>77</td>\n      <td>1208</td>\n      <td>71</td>\n      <td>N</td>\n      <td>0</td>\n      <td>30</td>\n      <td>61</td>\n      <td>...</td>\n      <td>27</td>\n      <td>21</td>\n      <td>15</td>\n      <td>12</td>\n      <td>10</td>\n      <td>7</td>\n      <td>1</td>\n      <td>14</td>\n      <td>0.229508</td>\n      <td>0.258065</td>\n    </tr>\n    <tr>\n      <th>...</th>\n      <td>...</td>\n      <td>...</td>\n      <td>...</td>\n      <td>...</td>\n      <td>...</td>\n      <td>...</td>\n      <td>...</td>\n      <td>...</td>\n      <td>...</td>\n      <td>...</td>\n      <td>...</td>\n      <td>...</td>\n      <td>...</td>\n      <td>...</td>\n      <td>...</td>\n      <td>...</td>\n      <td>...</td>\n      <td>...</td>\n      <td>...</td>\n      <td>...</td>\n      <td>...</td>\n    </tr>\n    <tr>\n      <th>92827</th>\n      <td>2020</td>\n      <td>128</td>\n      <td>1389</td>\n      <td>56</td>\n      <td>1233</td>\n      <td>54</td>\n      <td>N</td>\n      <td>0</td>\n      <td>15</td>\n      <td>60</td>\n      <td>...</td>\n      <td>20</td>\n      <td>4</td>\n      <td>27</td>\n      <td>6</td>\n      <td>17</td>\n      <td>8</td>\n      <td>4</td>\n      <td>20</td>\n      <td>0.400000</td>\n      <td>0.347826</td>\n    </tr>\n    <tr>\n      <th>92828</th>\n      <td>2020</td>\n      <td>128</td>\n      <td>1393</td>\n      <td>81</td>\n      <td>1314</td>\n      <td>53</td>\n      <td>N</td>\n      <td>0</td>\n      <td>28</td>\n      <td>61</td>\n      <td>...</td>\n      <td>13</td>\n      <td>13</td>\n      <td>29</td>\n      <td>9</td>\n      <td>18</td>\n      <td>0</td>\n      <td>1</td>\n      <td>18</td>\n      <td>0.344262</td>\n      <td>0.266667</td>\n    </tr>\n    <tr>\n      <th>92829</th>\n      <td>2020</td>\n      <td>128</td>\n      <td>1402</td>\n      <td>85</td>\n      <td>1111</td>\n      <td>68</td>\n      <td>H</td>\n      <td>0</td>\n      <td>34</td>\n      <td>57</td>\n      <td>...</td>\n      <td>35</td>\n      <td>8</td>\n      <td>17</td>\n      <td>6</td>\n      <td>18</td>\n      <td>7</td>\n      <td>2</td>\n      <td>18</td>\n      <td>0.210526</td>\n      <td>0.326087</td>\n    </tr>\n    <tr>\n      <th>92830</th>\n      <td>2020</td>\n      <td>128</td>\n      <td>1412</td>\n      <td>74</td>\n      <td>1427</td>\n      <td>69</td>\n      <td>N</td>\n      <td>0</td>\n      <td>26</td>\n      <td>53</td>\n      <td>...</td>\n      <td>7</td>\n      <td>12</td>\n      <td>22</td>\n      <td>11</td>\n      <td>13</td>\n      <td>4</td>\n      <td>2</td>\n      <td>18</td>\n      <td>0.264151</td>\n      <td>0.402985</td>\n    </tr>\n    <tr>\n      <th>92831</th>\n      <td>2020</td>\n      <td>128</td>\n      <td>1450</td>\n      <td>82</td>\n      <td>1160</td>\n      <td>68</td>\n      <td>N</td>\n      <td>0</td>\n      <td>27</td>\n      <td>55</td>\n      <td>...</td>\n      <td>32</td>\n      <td>10</td>\n      <td>24</td>\n      <td>4</td>\n      <td>11</td>\n      <td>4</td>\n      <td>4</td>\n      <td>19</td>\n      <td>0.381818</td>\n      <td>0.368421</td>\n    </tr>\n  </tbody>\n</table>\n<p>92832 rows × 36 columns</p>\n</div>"
     },
     "metadata": {},
     "execution_count": 9
    }
   ],
   "source": [
    "# New Regular Season box scores with new features\n",
    "dRegSeasonResults"
   ]
  },
  {
   "cell_type": "code",
   "execution_count": 13,
   "metadata": {},
   "outputs": [],
   "source": [
    "# Do same for tourney attenders\n",
    "dTourneyResults[\"WFGA%3\"] = dTourneyResults[[\"WFGA\", \"WFGA3\"]].apply(threeFgap, axis=1)\n",
    "dTourneyResults[\"WFGA%2\"] = dTourneyResults[[\"WFGA\", \"WFGA3\"]].apply(twoFgap, axis=1)\n",
    "dTourneyResults[\"LFGA%3\"] = dTourneyResults[[\"LFGA\", \"LFGA3\"]].apply(threeFgap, axis=1)\n",
    "dTourneyResults[\"LFGA%2\"] = dTourneyResults[[\"LFGA\", \"LFGA3\"]].apply(twoFgap, axis=1)"
   ]
  },
  {
   "cell_type": "code",
   "execution_count": 14,
   "metadata": {},
   "outputs": [
    {
     "output_type": "execute_result",
     "data": {
      "text/plain": [
       "      Season  DayNum  WTeamID  WScore  LTeamID  LScore WLoc  NumOT  WFGM  \\\n",
       "0       2003     134     1421      92     1411      84    N      1    32   \n",
       "1       2003     136     1112      80     1436      51    N      0    31   \n",
       "2       2003     136     1113      84     1272      71    N      0    31   \n",
       "3       2003     136     1141      79     1166      73    N      0    29   \n",
       "4       2003     136     1143      76     1301      74    N      1    27   \n",
       "...      ...     ...      ...     ...      ...     ...  ...    ...   ...   \n",
       "1110    2019     146     1120      77     1246      71    N      1    26   \n",
       "1111    2019     146     1277      68     1181      67    N      0    30   \n",
       "1112    2019     152     1403      61     1277      51    N      0    22   \n",
       "1113    2019     152     1438      63     1120      62    N      0    25   \n",
       "1114    2019     154     1438      85     1403      77    N      1    27   \n",
       "\n",
       "      WFGA  ...  LDR  LAst  LTO  LStl  LBlk  LPF    WFGA%3    WFGA%2  \\\n",
       "0       69  ...   28    16   15     5     0   22  0.420290  0.579710   \n",
       "1       66  ...   26    12   17    10     3   15  0.348485  0.651515   \n",
       "2       59  ...   22    11   12     2     5   18  0.237288  0.762712   \n",
       "3       53  ...   17    20   21     6     6   21  0.132075  0.867925   \n",
       "4       64  ...   26    16   14     5     8   19  0.312500  0.687500   \n",
       "...    ...  ...  ...   ...  ...   ...   ...  ...       ...       ...   \n",
       "1110    65  ...   30    14   14     5     5   19  0.353846  0.646154   \n",
       "1111    70  ...   29    14   17     4     9    9  0.271429  0.728571   \n",
       "1112    51  ...   28     6   11     1     2   15  0.450980  0.549020   \n",
       "1113    51  ...   24     9    5     3     3   12  0.372549  0.627451   \n",
       "1114    59  ...   23     9    8     6     3   18  0.406780  0.593220   \n",
       "\n",
       "        LFGA%3    LFGA%2  \n",
       "0     0.462687  0.537313  \n",
       "1     0.250000  0.750000  \n",
       "2     0.405797  0.594203  \n",
       "3     0.283333  0.716667  \n",
       "4     0.375000  0.625000  \n",
       "...        ...       ...  \n",
       "1110  0.344262  0.655738  \n",
       "1111  0.368421  0.631579  \n",
       "1112  0.510638  0.489362  \n",
       "1113  0.563636  0.436364  \n",
       "1114  0.476190  0.523810  \n",
       "\n",
       "[1115 rows x 38 columns]"
      ],
      "text/html": "<div>\n<style scoped>\n    .dataframe tbody tr th:only-of-type {\n        vertical-align: middle;\n    }\n\n    .dataframe tbody tr th {\n        vertical-align: top;\n    }\n\n    .dataframe thead th {\n        text-align: right;\n    }\n</style>\n<table border=\"1\" class=\"dataframe\">\n  <thead>\n    <tr style=\"text-align: right;\">\n      <th></th>\n      <th>Season</th>\n      <th>DayNum</th>\n      <th>WTeamID</th>\n      <th>WScore</th>\n      <th>LTeamID</th>\n      <th>LScore</th>\n      <th>WLoc</th>\n      <th>NumOT</th>\n      <th>WFGM</th>\n      <th>WFGA</th>\n      <th>...</th>\n      <th>LDR</th>\n      <th>LAst</th>\n      <th>LTO</th>\n      <th>LStl</th>\n      <th>LBlk</th>\n      <th>LPF</th>\n      <th>WFGA%3</th>\n      <th>WFGA%2</th>\n      <th>LFGA%3</th>\n      <th>LFGA%2</th>\n    </tr>\n  </thead>\n  <tbody>\n    <tr>\n      <th>0</th>\n      <td>2003</td>\n      <td>134</td>\n      <td>1421</td>\n      <td>92</td>\n      <td>1411</td>\n      <td>84</td>\n      <td>N</td>\n      <td>1</td>\n      <td>32</td>\n      <td>69</td>\n      <td>...</td>\n      <td>28</td>\n      <td>16</td>\n      <td>15</td>\n      <td>5</td>\n      <td>0</td>\n      <td>22</td>\n      <td>0.420290</td>\n      <td>0.579710</td>\n      <td>0.462687</td>\n      <td>0.537313</td>\n    </tr>\n    <tr>\n      <th>1</th>\n      <td>2003</td>\n      <td>136</td>\n      <td>1112</td>\n      <td>80</td>\n      <td>1436</td>\n      <td>51</td>\n      <td>N</td>\n      <td>0</td>\n      <td>31</td>\n      <td>66</td>\n      <td>...</td>\n      <td>26</td>\n      <td>12</td>\n      <td>17</td>\n      <td>10</td>\n      <td>3</td>\n      <td>15</td>\n      <td>0.348485</td>\n      <td>0.651515</td>\n      <td>0.250000</td>\n      <td>0.750000</td>\n    </tr>\n    <tr>\n      <th>2</th>\n      <td>2003</td>\n      <td>136</td>\n      <td>1113</td>\n      <td>84</td>\n      <td>1272</td>\n      <td>71</td>\n      <td>N</td>\n      <td>0</td>\n      <td>31</td>\n      <td>59</td>\n      <td>...</td>\n      <td>22</td>\n      <td>11</td>\n      <td>12</td>\n      <td>2</td>\n      <td>5</td>\n      <td>18</td>\n      <td>0.237288</td>\n      <td>0.762712</td>\n      <td>0.405797</td>\n      <td>0.594203</td>\n    </tr>\n    <tr>\n      <th>3</th>\n      <td>2003</td>\n      <td>136</td>\n      <td>1141</td>\n      <td>79</td>\n      <td>1166</td>\n      <td>73</td>\n      <td>N</td>\n      <td>0</td>\n      <td>29</td>\n      <td>53</td>\n      <td>...</td>\n      <td>17</td>\n      <td>20</td>\n      <td>21</td>\n      <td>6</td>\n      <td>6</td>\n      <td>21</td>\n      <td>0.132075</td>\n      <td>0.867925</td>\n      <td>0.283333</td>\n      <td>0.716667</td>\n    </tr>\n    <tr>\n      <th>4</th>\n      <td>2003</td>\n      <td>136</td>\n      <td>1143</td>\n      <td>76</td>\n      <td>1301</td>\n      <td>74</td>\n      <td>N</td>\n      <td>1</td>\n      <td>27</td>\n      <td>64</td>\n      <td>...</td>\n      <td>26</td>\n      <td>16</td>\n      <td>14</td>\n      <td>5</td>\n      <td>8</td>\n      <td>19</td>\n      <td>0.312500</td>\n      <td>0.687500</td>\n      <td>0.375000</td>\n      <td>0.625000</td>\n    </tr>\n    <tr>\n      <th>...</th>\n      <td>...</td>\n      <td>...</td>\n      <td>...</td>\n      <td>...</td>\n      <td>...</td>\n      <td>...</td>\n      <td>...</td>\n      <td>...</td>\n      <td>...</td>\n      <td>...</td>\n      <td>...</td>\n      <td>...</td>\n      <td>...</td>\n      <td>...</td>\n      <td>...</td>\n      <td>...</td>\n      <td>...</td>\n      <td>...</td>\n      <td>...</td>\n      <td>...</td>\n      <td>...</td>\n    </tr>\n    <tr>\n      <th>1110</th>\n      <td>2019</td>\n      <td>146</td>\n      <td>1120</td>\n      <td>77</td>\n      <td>1246</td>\n      <td>71</td>\n      <td>N</td>\n      <td>1</td>\n      <td>26</td>\n      <td>65</td>\n      <td>...</td>\n      <td>30</td>\n      <td>14</td>\n      <td>14</td>\n      <td>5</td>\n      <td>5</td>\n      <td>19</td>\n      <td>0.353846</td>\n      <td>0.646154</td>\n      <td>0.344262</td>\n      <td>0.655738</td>\n    </tr>\n    <tr>\n      <th>1111</th>\n      <td>2019</td>\n      <td>146</td>\n      <td>1277</td>\n      <td>68</td>\n      <td>1181</td>\n      <td>67</td>\n      <td>N</td>\n      <td>0</td>\n      <td>30</td>\n      <td>70</td>\n      <td>...</td>\n      <td>29</td>\n      <td>14</td>\n      <td>17</td>\n      <td>4</td>\n      <td>9</td>\n      <td>9</td>\n      <td>0.271429</td>\n      <td>0.728571</td>\n      <td>0.368421</td>\n      <td>0.631579</td>\n    </tr>\n    <tr>\n      <th>1112</th>\n      <td>2019</td>\n      <td>152</td>\n      <td>1403</td>\n      <td>61</td>\n      <td>1277</td>\n      <td>51</td>\n      <td>N</td>\n      <td>0</td>\n      <td>22</td>\n      <td>51</td>\n      <td>...</td>\n      <td>28</td>\n      <td>6</td>\n      <td>11</td>\n      <td>1</td>\n      <td>2</td>\n      <td>15</td>\n      <td>0.450980</td>\n      <td>0.549020</td>\n      <td>0.510638</td>\n      <td>0.489362</td>\n    </tr>\n    <tr>\n      <th>1113</th>\n      <td>2019</td>\n      <td>152</td>\n      <td>1438</td>\n      <td>63</td>\n      <td>1120</td>\n      <td>62</td>\n      <td>N</td>\n      <td>0</td>\n      <td>25</td>\n      <td>51</td>\n      <td>...</td>\n      <td>24</td>\n      <td>9</td>\n      <td>5</td>\n      <td>3</td>\n      <td>3</td>\n      <td>12</td>\n      <td>0.372549</td>\n      <td>0.627451</td>\n      <td>0.563636</td>\n      <td>0.436364</td>\n    </tr>\n    <tr>\n      <th>1114</th>\n      <td>2019</td>\n      <td>154</td>\n      <td>1438</td>\n      <td>85</td>\n      <td>1403</td>\n      <td>77</td>\n      <td>N</td>\n      <td>1</td>\n      <td>27</td>\n      <td>59</td>\n      <td>...</td>\n      <td>23</td>\n      <td>9</td>\n      <td>8</td>\n      <td>6</td>\n      <td>3</td>\n      <td>18</td>\n      <td>0.406780</td>\n      <td>0.593220</td>\n      <td>0.476190</td>\n      <td>0.523810</td>\n    </tr>\n  </tbody>\n</table>\n<p>1115 rows × 38 columns</p>\n</div>"
     },
     "metadata": {},
     "execution_count": 14
    }
   ],
   "source": [
    "# New Tournament box scores with new features\n",
    "dTourneyResults"
   ]
  },
  {
   "cell_type": "code",
   "execution_count": null,
   "metadata": {},
   "outputs": [],
   "source": []
  }
 ]
}