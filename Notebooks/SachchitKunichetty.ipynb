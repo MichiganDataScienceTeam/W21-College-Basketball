{
 "metadata": {
  "language_info": {
   "codemirror_mode": {
    "name": "ipython",
    "version": 3
   },
   "file_extension": ".py",
   "mimetype": "text/x-python",
   "name": "python",
   "nbconvert_exporter": "python",
   "pygments_lexer": "ipython3",
   "version": "3.8.5-final"
  },
  "orig_nbformat": 2,
  "kernelspec": {
   "name": "python3",
   "display_name": "Python 3.8.5 64-bit ('base': conda)",
   "metadata": {
    "interpreter": {
     "hash": "0d11504f513c5e2def777fde2fc0ed1708473377b7f6cf3a9f97260f806eeb3f"
    }
   }
  }
 },
 "nbformat": 4,
 "nbformat_minor": 2,
 "cells": [
  {
   "cell_type": "code",
   "execution_count": 1,
   "metadata": {},
   "outputs": [],
   "source": [
    "import pandas as pd\n",
    "import seaborn as sns\n",
    "import numpy as np\n",
    "import matplotlib.pyplot as plt"
   ]
  },
  {
   "source": [
    "## Feature Engineering - 3PT% and 2PT%"
   ],
   "cell_type": "markdown",
   "metadata": {}
  },
  {
   "cell_type": "code",
   "execution_count": 2,
   "metadata": {},
   "outputs": [],
   "source": [
    "dRegSeasonResults = pd.read_csv(\"../Data/MRegularSeasonDetailedResults.csv\")\n",
    "dTourneyResults = pd.read_csv(\"../Data/MNCAATourneyDetailedResults.csv\")"
   ]
  },
  {
   "cell_type": "code",
   "execution_count": 3,
   "metadata": {},
   "outputs": [
    {
     "output_type": "execute_result",
     "data": {
      "text/plain": [
       "       Season  DayNum  WTeamID  WScore  LTeamID  LScore WLoc  NumOT  WFGM  \\\n",
       "0        2003      10     1104      68     1328      62    N      0    27   \n",
       "1        2003      10     1272      70     1393      63    N      0    26   \n",
       "2        2003      11     1266      73     1437      61    N      0    24   \n",
       "3        2003      11     1296      56     1457      50    N      0    18   \n",
       "4        2003      11     1400      77     1208      71    N      0    30   \n",
       "...       ...     ...      ...     ...      ...     ...  ...    ...   ...   \n",
       "92827    2020     128     1389      56     1233      54    N      0    15   \n",
       "92828    2020     128     1393      81     1314      53    N      0    28   \n",
       "92829    2020     128     1402      85     1111      68    H      0    34   \n",
       "92830    2020     128     1412      74     1427      69    N      0    26   \n",
       "92831    2020     128     1450      82     1160      68    N      0    27   \n",
       "\n",
       "       WFGA  ...  LFGA3  LFTM  LFTA  LOR  LDR  LAst  LTO  LStl  LBlk  LPF  \n",
       "0        58  ...     10    16    22   10   22     8   18     9     2   20  \n",
       "1        62  ...     24     9    20   20   25     7   12     8     6   16  \n",
       "2        58  ...     26    14    23   31   22     9   12     2     5   23  \n",
       "3        38  ...     22     8    15   17   20     9   19     4     3   23  \n",
       "4        61  ...     16    17    27   21   15    12   10     7     1   14  \n",
       "...     ...  ...    ...   ...   ...  ...  ...   ...  ...   ...   ...  ...  \n",
       "92827    60  ...     16    18    20    4   27     6   17     8     4   20  \n",
       "92828    61  ...     16    11    13   13   29     9   18     0     1   18  \n",
       "92829    57  ...     15    25    35    8   17     6   18     7     2   18  \n",
       "92830    53  ...     27     7     7   12   22    11   13     4     2   18  \n",
       "92831    55  ...     21    22    32   10   24     4   11     4     4   19  \n",
       "\n",
       "[92832 rows x 34 columns]"
      ],
      "text/html": "<div>\n<style scoped>\n    .dataframe tbody tr th:only-of-type {\n        vertical-align: middle;\n    }\n\n    .dataframe tbody tr th {\n        vertical-align: top;\n    }\n\n    .dataframe thead th {\n        text-align: right;\n    }\n</style>\n<table border=\"1\" class=\"dataframe\">\n  <thead>\n    <tr style=\"text-align: right;\">\n      <th></th>\n      <th>Season</th>\n      <th>DayNum</th>\n      <th>WTeamID</th>\n      <th>WScore</th>\n      <th>LTeamID</th>\n      <th>LScore</th>\n      <th>WLoc</th>\n      <th>NumOT</th>\n      <th>WFGM</th>\n      <th>WFGA</th>\n      <th>...</th>\n      <th>LFGA3</th>\n      <th>LFTM</th>\n      <th>LFTA</th>\n      <th>LOR</th>\n      <th>LDR</th>\n      <th>LAst</th>\n      <th>LTO</th>\n      <th>LStl</th>\n      <th>LBlk</th>\n      <th>LPF</th>\n    </tr>\n  </thead>\n  <tbody>\n    <tr>\n      <th>0</th>\n      <td>2003</td>\n      <td>10</td>\n      <td>1104</td>\n      <td>68</td>\n      <td>1328</td>\n      <td>62</td>\n      <td>N</td>\n      <td>0</td>\n      <td>27</td>\n      <td>58</td>\n      <td>...</td>\n      <td>10</td>\n      <td>16</td>\n      <td>22</td>\n      <td>10</td>\n      <td>22</td>\n      <td>8</td>\n      <td>18</td>\n      <td>9</td>\n      <td>2</td>\n      <td>20</td>\n    </tr>\n    <tr>\n      <th>1</th>\n      <td>2003</td>\n      <td>10</td>\n      <td>1272</td>\n      <td>70</td>\n      <td>1393</td>\n      <td>63</td>\n      <td>N</td>\n      <td>0</td>\n      <td>26</td>\n      <td>62</td>\n      <td>...</td>\n      <td>24</td>\n      <td>9</td>\n      <td>20</td>\n      <td>20</td>\n      <td>25</td>\n      <td>7</td>\n      <td>12</td>\n      <td>8</td>\n      <td>6</td>\n      <td>16</td>\n    </tr>\n    <tr>\n      <th>2</th>\n      <td>2003</td>\n      <td>11</td>\n      <td>1266</td>\n      <td>73</td>\n      <td>1437</td>\n      <td>61</td>\n      <td>N</td>\n      <td>0</td>\n      <td>24</td>\n      <td>58</td>\n      <td>...</td>\n      <td>26</td>\n      <td>14</td>\n      <td>23</td>\n      <td>31</td>\n      <td>22</td>\n      <td>9</td>\n      <td>12</td>\n      <td>2</td>\n      <td>5</td>\n      <td>23</td>\n    </tr>\n    <tr>\n      <th>3</th>\n      <td>2003</td>\n      <td>11</td>\n      <td>1296</td>\n      <td>56</td>\n      <td>1457</td>\n      <td>50</td>\n      <td>N</td>\n      <td>0</td>\n      <td>18</td>\n      <td>38</td>\n      <td>...</td>\n      <td>22</td>\n      <td>8</td>\n      <td>15</td>\n      <td>17</td>\n      <td>20</td>\n      <td>9</td>\n      <td>19</td>\n      <td>4</td>\n      <td>3</td>\n      <td>23</td>\n    </tr>\n    <tr>\n      <th>4</th>\n      <td>2003</td>\n      <td>11</td>\n      <td>1400</td>\n      <td>77</td>\n      <td>1208</td>\n      <td>71</td>\n      <td>N</td>\n      <td>0</td>\n      <td>30</td>\n      <td>61</td>\n      <td>...</td>\n      <td>16</td>\n      <td>17</td>\n      <td>27</td>\n      <td>21</td>\n      <td>15</td>\n      <td>12</td>\n      <td>10</td>\n      <td>7</td>\n      <td>1</td>\n      <td>14</td>\n    </tr>\n    <tr>\n      <th>...</th>\n      <td>...</td>\n      <td>...</td>\n      <td>...</td>\n      <td>...</td>\n      <td>...</td>\n      <td>...</td>\n      <td>...</td>\n      <td>...</td>\n      <td>...</td>\n      <td>...</td>\n      <td>...</td>\n      <td>...</td>\n      <td>...</td>\n      <td>...</td>\n      <td>...</td>\n      <td>...</td>\n      <td>...</td>\n      <td>...</td>\n      <td>...</td>\n      <td>...</td>\n      <td>...</td>\n    </tr>\n    <tr>\n      <th>92827</th>\n      <td>2020</td>\n      <td>128</td>\n      <td>1389</td>\n      <td>56</td>\n      <td>1233</td>\n      <td>54</td>\n      <td>N</td>\n      <td>0</td>\n      <td>15</td>\n      <td>60</td>\n      <td>...</td>\n      <td>16</td>\n      <td>18</td>\n      <td>20</td>\n      <td>4</td>\n      <td>27</td>\n      <td>6</td>\n      <td>17</td>\n      <td>8</td>\n      <td>4</td>\n      <td>20</td>\n    </tr>\n    <tr>\n      <th>92828</th>\n      <td>2020</td>\n      <td>128</td>\n      <td>1393</td>\n      <td>81</td>\n      <td>1314</td>\n      <td>53</td>\n      <td>N</td>\n      <td>0</td>\n      <td>28</td>\n      <td>61</td>\n      <td>...</td>\n      <td>16</td>\n      <td>11</td>\n      <td>13</td>\n      <td>13</td>\n      <td>29</td>\n      <td>9</td>\n      <td>18</td>\n      <td>0</td>\n      <td>1</td>\n      <td>18</td>\n    </tr>\n    <tr>\n      <th>92829</th>\n      <td>2020</td>\n      <td>128</td>\n      <td>1402</td>\n      <td>85</td>\n      <td>1111</td>\n      <td>68</td>\n      <td>H</td>\n      <td>0</td>\n      <td>34</td>\n      <td>57</td>\n      <td>...</td>\n      <td>15</td>\n      <td>25</td>\n      <td>35</td>\n      <td>8</td>\n      <td>17</td>\n      <td>6</td>\n      <td>18</td>\n      <td>7</td>\n      <td>2</td>\n      <td>18</td>\n    </tr>\n    <tr>\n      <th>92830</th>\n      <td>2020</td>\n      <td>128</td>\n      <td>1412</td>\n      <td>74</td>\n      <td>1427</td>\n      <td>69</td>\n      <td>N</td>\n      <td>0</td>\n      <td>26</td>\n      <td>53</td>\n      <td>...</td>\n      <td>27</td>\n      <td>7</td>\n      <td>7</td>\n      <td>12</td>\n      <td>22</td>\n      <td>11</td>\n      <td>13</td>\n      <td>4</td>\n      <td>2</td>\n      <td>18</td>\n    </tr>\n    <tr>\n      <th>92831</th>\n      <td>2020</td>\n      <td>128</td>\n      <td>1450</td>\n      <td>82</td>\n      <td>1160</td>\n      <td>68</td>\n      <td>N</td>\n      <td>0</td>\n      <td>27</td>\n      <td>55</td>\n      <td>...</td>\n      <td>21</td>\n      <td>22</td>\n      <td>32</td>\n      <td>10</td>\n      <td>24</td>\n      <td>4</td>\n      <td>11</td>\n      <td>4</td>\n      <td>4</td>\n      <td>19</td>\n    </tr>\n  </tbody>\n</table>\n<p>92832 rows × 34 columns</p>\n</div>"
     },
     "metadata": {},
     "execution_count": 3
    }
   ],
   "source": [
    "dRegSeasonResults"
   ]
  },
  {
   "cell_type": "code",
   "execution_count": 4,
   "metadata": {},
   "outputs": [],
   "source": [
    "# gets 3PT Attempt Percentage\n",
    "def threeFgap(row):\n",
    "    if \"WFGA\" in row:\n",
    "        threeFgap = row[\"WFGA3\"]/float(row[\"WFGA\"])\n",
    "    else:\n",
    "        threeFgap = row[\"LFGA3\"]/float(row[\"LFGA\"])\n",
    "    return threeFgap\n",
    "# Gets 2PT Attempt percentage by taking the percent of all field goal attempts which aren't 3PTs\n",
    "def twoFgap(row):\n",
    "    if \"WFGA\" in row:\n",
    "        twoFgap = float(row[\"WFGA\"] - row[\"WFGA3\"])/float(row[\"WFGA\"])\n",
    "    else:\n",
    "        twoFgap = float(row[\"LFGA\"] - row[\"LFGA3\"])/float(row[\"LFGA\"])\n",
    "    return twoFgap"
   ]
  },
  {
   "cell_type": "code",
   "execution_count": 5,
   "metadata": {},
   "outputs": [],
   "source": [
    "dRegSeasonResults[\"WFGA%3\"] = dRegSeasonResults[[\"WFGA\", \"WFGA3\"]].apply(threeFgap, axis=1)\n",
    "dRegSeasonResults[\"WFGA%2\"] = dRegSeasonResults[[\"WFGA\", \"WFGA3\"]].apply(twoFgap, axis=1)\n",
    "dRegSeasonResults[\"LFGA%3\"] = dRegSeasonResults[[\"LFGA\", \"LFGA3\"]].apply(threeFgap, axis=1)\n",
    "dRegSeasonResults[\"LFGA%2\"] = dRegSeasonResults[[\"LFGA\", \"LFGA3\"]].apply(twoFgap, axis=1)"
   ]
  },
  {
   "cell_type": "code",
   "execution_count": 6,
   "metadata": {},
   "outputs": [
    {
     "output_type": "execute_result",
     "data": {
      "text/plain": [
       "       Season  DayNum  WTeamID  WScore  LTeamID  LScore WLoc  NumOT  WFGM  \\\n",
       "0        2003      10     1104      68     1328      62    N      0    27   \n",
       "1        2003      10     1272      70     1393      63    N      0    26   \n",
       "2        2003      11     1266      73     1437      61    N      0    24   \n",
       "3        2003      11     1296      56     1457      50    N      0    18   \n",
       "4        2003      11     1400      77     1208      71    N      0    30   \n",
       "...       ...     ...      ...     ...      ...     ...  ...    ...   ...   \n",
       "92827    2020     128     1389      56     1233      54    N      0    15   \n",
       "92828    2020     128     1393      81     1314      53    N      0    28   \n",
       "92829    2020     128     1402      85     1111      68    H      0    34   \n",
       "92830    2020     128     1412      74     1427      69    N      0    26   \n",
       "92831    2020     128     1450      82     1160      68    N      0    27   \n",
       "\n",
       "       WFGA  ...  LDR  LAst  LTO  LStl  LBlk  LPF    WFGA%3    WFGA%2  \\\n",
       "0        58  ...   22     8   18     9     2   20  0.241379  0.758621   \n",
       "1        62  ...   25     7   12     8     6   16  0.322581  0.677419   \n",
       "2        58  ...   22     9   12     2     5   23  0.310345  0.689655   \n",
       "3        38  ...   20     9   19     4     3   23  0.236842  0.763158   \n",
       "4        61  ...   15    12   10     7     1   14  0.229508  0.770492   \n",
       "...     ...  ...  ...   ...  ...   ...   ...  ...       ...       ...   \n",
       "92827    60  ...   27     6   17     8     4   20  0.400000  0.600000   \n",
       "92828    61  ...   29     9   18     0     1   18  0.344262  0.655738   \n",
       "92829    57  ...   17     6   18     7     2   18  0.210526  0.789474   \n",
       "92830    53  ...   22    11   13     4     2   18  0.264151  0.735849   \n",
       "92831    55  ...   24     4   11     4     4   19  0.381818  0.618182   \n",
       "\n",
       "         LFGA%3    LFGA%2  \n",
       "0      0.188679  0.811321  \n",
       "1      0.358209  0.641791  \n",
       "2      0.356164  0.643836  \n",
       "3      0.448980  0.551020  \n",
       "4      0.258065  0.741935  \n",
       "...         ...       ...  \n",
       "92827  0.347826  0.652174  \n",
       "92828  0.266667  0.733333  \n",
       "92829  0.326087  0.673913  \n",
       "92830  0.402985  0.597015  \n",
       "92831  0.368421  0.631579  \n",
       "\n",
       "[92832 rows x 38 columns]"
      ],
      "text/html": "<div>\n<style scoped>\n    .dataframe tbody tr th:only-of-type {\n        vertical-align: middle;\n    }\n\n    .dataframe tbody tr th {\n        vertical-align: top;\n    }\n\n    .dataframe thead th {\n        text-align: right;\n    }\n</style>\n<table border=\"1\" class=\"dataframe\">\n  <thead>\n    <tr style=\"text-align: right;\">\n      <th></th>\n      <th>Season</th>\n      <th>DayNum</th>\n      <th>WTeamID</th>\n      <th>WScore</th>\n      <th>LTeamID</th>\n      <th>LScore</th>\n      <th>WLoc</th>\n      <th>NumOT</th>\n      <th>WFGM</th>\n      <th>WFGA</th>\n      <th>...</th>\n      <th>LDR</th>\n      <th>LAst</th>\n      <th>LTO</th>\n      <th>LStl</th>\n      <th>LBlk</th>\n      <th>LPF</th>\n      <th>WFGA%3</th>\n      <th>WFGA%2</th>\n      <th>LFGA%3</th>\n      <th>LFGA%2</th>\n    </tr>\n  </thead>\n  <tbody>\n    <tr>\n      <th>0</th>\n      <td>2003</td>\n      <td>10</td>\n      <td>1104</td>\n      <td>68</td>\n      <td>1328</td>\n      <td>62</td>\n      <td>N</td>\n      <td>0</td>\n      <td>27</td>\n      <td>58</td>\n      <td>...</td>\n      <td>22</td>\n      <td>8</td>\n      <td>18</td>\n      <td>9</td>\n      <td>2</td>\n      <td>20</td>\n      <td>0.241379</td>\n      <td>0.758621</td>\n      <td>0.188679</td>\n      <td>0.811321</td>\n    </tr>\n    <tr>\n      <th>1</th>\n      <td>2003</td>\n      <td>10</td>\n      <td>1272</td>\n      <td>70</td>\n      <td>1393</td>\n      <td>63</td>\n      <td>N</td>\n      <td>0</td>\n      <td>26</td>\n      <td>62</td>\n      <td>...</td>\n      <td>25</td>\n      <td>7</td>\n      <td>12</td>\n      <td>8</td>\n      <td>6</td>\n      <td>16</td>\n      <td>0.322581</td>\n      <td>0.677419</td>\n      <td>0.358209</td>\n      <td>0.641791</td>\n    </tr>\n    <tr>\n      <th>2</th>\n      <td>2003</td>\n      <td>11</td>\n      <td>1266</td>\n      <td>73</td>\n      <td>1437</td>\n      <td>61</td>\n      <td>N</td>\n      <td>0</td>\n      <td>24</td>\n      <td>58</td>\n      <td>...</td>\n      <td>22</td>\n      <td>9</td>\n      <td>12</td>\n      <td>2</td>\n      <td>5</td>\n      <td>23</td>\n      <td>0.310345</td>\n      <td>0.689655</td>\n      <td>0.356164</td>\n      <td>0.643836</td>\n    </tr>\n    <tr>\n      <th>3</th>\n      <td>2003</td>\n      <td>11</td>\n      <td>1296</td>\n      <td>56</td>\n      <td>1457</td>\n      <td>50</td>\n      <td>N</td>\n      <td>0</td>\n      <td>18</td>\n      <td>38</td>\n      <td>...</td>\n      <td>20</td>\n      <td>9</td>\n      <td>19</td>\n      <td>4</td>\n      <td>3</td>\n      <td>23</td>\n      <td>0.236842</td>\n      <td>0.763158</td>\n      <td>0.448980</td>\n      <td>0.551020</td>\n    </tr>\n    <tr>\n      <th>4</th>\n      <td>2003</td>\n      <td>11</td>\n      <td>1400</td>\n      <td>77</td>\n      <td>1208</td>\n      <td>71</td>\n      <td>N</td>\n      <td>0</td>\n      <td>30</td>\n      <td>61</td>\n      <td>...</td>\n      <td>15</td>\n      <td>12</td>\n      <td>10</td>\n      <td>7</td>\n      <td>1</td>\n      <td>14</td>\n      <td>0.229508</td>\n      <td>0.770492</td>\n      <td>0.258065</td>\n      <td>0.741935</td>\n    </tr>\n    <tr>\n      <th>...</th>\n      <td>...</td>\n      <td>...</td>\n      <td>...</td>\n      <td>...</td>\n      <td>...</td>\n      <td>...</td>\n      <td>...</td>\n      <td>...</td>\n      <td>...</td>\n      <td>...</td>\n      <td>...</td>\n      <td>...</td>\n      <td>...</td>\n      <td>...</td>\n      <td>...</td>\n      <td>...</td>\n      <td>...</td>\n      <td>...</td>\n      <td>...</td>\n      <td>...</td>\n      <td>...</td>\n    </tr>\n    <tr>\n      <th>92827</th>\n      <td>2020</td>\n      <td>128</td>\n      <td>1389</td>\n      <td>56</td>\n      <td>1233</td>\n      <td>54</td>\n      <td>N</td>\n      <td>0</td>\n      <td>15</td>\n      <td>60</td>\n      <td>...</td>\n      <td>27</td>\n      <td>6</td>\n      <td>17</td>\n      <td>8</td>\n      <td>4</td>\n      <td>20</td>\n      <td>0.400000</td>\n      <td>0.600000</td>\n      <td>0.347826</td>\n      <td>0.652174</td>\n    </tr>\n    <tr>\n      <th>92828</th>\n      <td>2020</td>\n      <td>128</td>\n      <td>1393</td>\n      <td>81</td>\n      <td>1314</td>\n      <td>53</td>\n      <td>N</td>\n      <td>0</td>\n      <td>28</td>\n      <td>61</td>\n      <td>...</td>\n      <td>29</td>\n      <td>9</td>\n      <td>18</td>\n      <td>0</td>\n      <td>1</td>\n      <td>18</td>\n      <td>0.344262</td>\n      <td>0.655738</td>\n      <td>0.266667</td>\n      <td>0.733333</td>\n    </tr>\n    <tr>\n      <th>92829</th>\n      <td>2020</td>\n      <td>128</td>\n      <td>1402</td>\n      <td>85</td>\n      <td>1111</td>\n      <td>68</td>\n      <td>H</td>\n      <td>0</td>\n      <td>34</td>\n      <td>57</td>\n      <td>...</td>\n      <td>17</td>\n      <td>6</td>\n      <td>18</td>\n      <td>7</td>\n      <td>2</td>\n      <td>18</td>\n      <td>0.210526</td>\n      <td>0.789474</td>\n      <td>0.326087</td>\n      <td>0.673913</td>\n    </tr>\n    <tr>\n      <th>92830</th>\n      <td>2020</td>\n      <td>128</td>\n      <td>1412</td>\n      <td>74</td>\n      <td>1427</td>\n      <td>69</td>\n      <td>N</td>\n      <td>0</td>\n      <td>26</td>\n      <td>53</td>\n      <td>...</td>\n      <td>22</td>\n      <td>11</td>\n      <td>13</td>\n      <td>4</td>\n      <td>2</td>\n      <td>18</td>\n      <td>0.264151</td>\n      <td>0.735849</td>\n      <td>0.402985</td>\n      <td>0.597015</td>\n    </tr>\n    <tr>\n      <th>92831</th>\n      <td>2020</td>\n      <td>128</td>\n      <td>1450</td>\n      <td>82</td>\n      <td>1160</td>\n      <td>68</td>\n      <td>N</td>\n      <td>0</td>\n      <td>27</td>\n      <td>55</td>\n      <td>...</td>\n      <td>24</td>\n      <td>4</td>\n      <td>11</td>\n      <td>4</td>\n      <td>4</td>\n      <td>19</td>\n      <td>0.381818</td>\n      <td>0.618182</td>\n      <td>0.368421</td>\n      <td>0.631579</td>\n    </tr>\n  </tbody>\n</table>\n<p>92832 rows × 38 columns</p>\n</div>"
     },
     "metadata": {},
     "execution_count": 6
    }
   ],
   "source": [
    "# New Regular Season box scores with new features\n",
    "dRegSeasonResults"
   ]
  },
  {
   "cell_type": "code",
   "execution_count": 7,
   "metadata": {},
   "outputs": [],
   "source": [
    "# Do same for tourney attenders\n",
    "dTourneyResults[\"WFGA%3\"] = dTourneyResults[[\"WFGA\", \"WFGA3\"]].apply(threeFgap, axis=1)\n",
    "dTourneyResults[\"WFGA%2\"] = dTourneyResults[[\"WFGA\", \"WFGA3\"]].apply(twoFgap, axis=1)\n",
    "dTourneyResults[\"LFGA%3\"] = dTourneyResults[[\"LFGA\", \"LFGA3\"]].apply(threeFgap, axis=1)\n",
    "dTourneyResults[\"LFGA%2\"] = dTourneyResults[[\"LFGA\", \"LFGA3\"]].apply(twoFgap, axis=1)"
   ]
  },
  {
   "cell_type": "code",
   "execution_count": 8,
   "metadata": {},
   "outputs": [
    {
     "output_type": "execute_result",
     "data": {
      "text/plain": [
       "      Season  DayNum  WTeamID  WScore  LTeamID  LScore WLoc  NumOT  WFGM  \\\n",
       "0       2003     134     1421      92     1411      84    N      1    32   \n",
       "1       2003     136     1112      80     1436      51    N      0    31   \n",
       "2       2003     136     1113      84     1272      71    N      0    31   \n",
       "3       2003     136     1141      79     1166      73    N      0    29   \n",
       "4       2003     136     1143      76     1301      74    N      1    27   \n",
       "...      ...     ...      ...     ...      ...     ...  ...    ...   ...   \n",
       "1110    2019     146     1120      77     1246      71    N      1    26   \n",
       "1111    2019     146     1277      68     1181      67    N      0    30   \n",
       "1112    2019     152     1403      61     1277      51    N      0    22   \n",
       "1113    2019     152     1438      63     1120      62    N      0    25   \n",
       "1114    2019     154     1438      85     1403      77    N      1    27   \n",
       "\n",
       "      WFGA  ...  LDR  LAst  LTO  LStl  LBlk  LPF    WFGA%3    WFGA%2  \\\n",
       "0       69  ...   28    16   15     5     0   22  0.420290  0.579710   \n",
       "1       66  ...   26    12   17    10     3   15  0.348485  0.651515   \n",
       "2       59  ...   22    11   12     2     5   18  0.237288  0.762712   \n",
       "3       53  ...   17    20   21     6     6   21  0.132075  0.867925   \n",
       "4       64  ...   26    16   14     5     8   19  0.312500  0.687500   \n",
       "...    ...  ...  ...   ...  ...   ...   ...  ...       ...       ...   \n",
       "1110    65  ...   30    14   14     5     5   19  0.353846  0.646154   \n",
       "1111    70  ...   29    14   17     4     9    9  0.271429  0.728571   \n",
       "1112    51  ...   28     6   11     1     2   15  0.450980  0.549020   \n",
       "1113    51  ...   24     9    5     3     3   12  0.372549  0.627451   \n",
       "1114    59  ...   23     9    8     6     3   18  0.406780  0.593220   \n",
       "\n",
       "        LFGA%3    LFGA%2  \n",
       "0     0.462687  0.537313  \n",
       "1     0.250000  0.750000  \n",
       "2     0.405797  0.594203  \n",
       "3     0.283333  0.716667  \n",
       "4     0.375000  0.625000  \n",
       "...        ...       ...  \n",
       "1110  0.344262  0.655738  \n",
       "1111  0.368421  0.631579  \n",
       "1112  0.510638  0.489362  \n",
       "1113  0.563636  0.436364  \n",
       "1114  0.476190  0.523810  \n",
       "\n",
       "[1115 rows x 38 columns]"
      ],
      "text/html": "<div>\n<style scoped>\n    .dataframe tbody tr th:only-of-type {\n        vertical-align: middle;\n    }\n\n    .dataframe tbody tr th {\n        vertical-align: top;\n    }\n\n    .dataframe thead th {\n        text-align: right;\n    }\n</style>\n<table border=\"1\" class=\"dataframe\">\n  <thead>\n    <tr style=\"text-align: right;\">\n      <th></th>\n      <th>Season</th>\n      <th>DayNum</th>\n      <th>WTeamID</th>\n      <th>WScore</th>\n      <th>LTeamID</th>\n      <th>LScore</th>\n      <th>WLoc</th>\n      <th>NumOT</th>\n      <th>WFGM</th>\n      <th>WFGA</th>\n      <th>...</th>\n      <th>LDR</th>\n      <th>LAst</th>\n      <th>LTO</th>\n      <th>LStl</th>\n      <th>LBlk</th>\n      <th>LPF</th>\n      <th>WFGA%3</th>\n      <th>WFGA%2</th>\n      <th>LFGA%3</th>\n      <th>LFGA%2</th>\n    </tr>\n  </thead>\n  <tbody>\n    <tr>\n      <th>0</th>\n      <td>2003</td>\n      <td>134</td>\n      <td>1421</td>\n      <td>92</td>\n      <td>1411</td>\n      <td>84</td>\n      <td>N</td>\n      <td>1</td>\n      <td>32</td>\n      <td>69</td>\n      <td>...</td>\n      <td>28</td>\n      <td>16</td>\n      <td>15</td>\n      <td>5</td>\n      <td>0</td>\n      <td>22</td>\n      <td>0.420290</td>\n      <td>0.579710</td>\n      <td>0.462687</td>\n      <td>0.537313</td>\n    </tr>\n    <tr>\n      <th>1</th>\n      <td>2003</td>\n      <td>136</td>\n      <td>1112</td>\n      <td>80</td>\n      <td>1436</td>\n      <td>51</td>\n      <td>N</td>\n      <td>0</td>\n      <td>31</td>\n      <td>66</td>\n      <td>...</td>\n      <td>26</td>\n      <td>12</td>\n      <td>17</td>\n      <td>10</td>\n      <td>3</td>\n      <td>15</td>\n      <td>0.348485</td>\n      <td>0.651515</td>\n      <td>0.250000</td>\n      <td>0.750000</td>\n    </tr>\n    <tr>\n      <th>2</th>\n      <td>2003</td>\n      <td>136</td>\n      <td>1113</td>\n      <td>84</td>\n      <td>1272</td>\n      <td>71</td>\n      <td>N</td>\n      <td>0</td>\n      <td>31</td>\n      <td>59</td>\n      <td>...</td>\n      <td>22</td>\n      <td>11</td>\n      <td>12</td>\n      <td>2</td>\n      <td>5</td>\n      <td>18</td>\n      <td>0.237288</td>\n      <td>0.762712</td>\n      <td>0.405797</td>\n      <td>0.594203</td>\n    </tr>\n    <tr>\n      <th>3</th>\n      <td>2003</td>\n      <td>136</td>\n      <td>1141</td>\n      <td>79</td>\n      <td>1166</td>\n      <td>73</td>\n      <td>N</td>\n      <td>0</td>\n      <td>29</td>\n      <td>53</td>\n      <td>...</td>\n      <td>17</td>\n      <td>20</td>\n      <td>21</td>\n      <td>6</td>\n      <td>6</td>\n      <td>21</td>\n      <td>0.132075</td>\n      <td>0.867925</td>\n      <td>0.283333</td>\n      <td>0.716667</td>\n    </tr>\n    <tr>\n      <th>4</th>\n      <td>2003</td>\n      <td>136</td>\n      <td>1143</td>\n      <td>76</td>\n      <td>1301</td>\n      <td>74</td>\n      <td>N</td>\n      <td>1</td>\n      <td>27</td>\n      <td>64</td>\n      <td>...</td>\n      <td>26</td>\n      <td>16</td>\n      <td>14</td>\n      <td>5</td>\n      <td>8</td>\n      <td>19</td>\n      <td>0.312500</td>\n      <td>0.687500</td>\n      <td>0.375000</td>\n      <td>0.625000</td>\n    </tr>\n    <tr>\n      <th>...</th>\n      <td>...</td>\n      <td>...</td>\n      <td>...</td>\n      <td>...</td>\n      <td>...</td>\n      <td>...</td>\n      <td>...</td>\n      <td>...</td>\n      <td>...</td>\n      <td>...</td>\n      <td>...</td>\n      <td>...</td>\n      <td>...</td>\n      <td>...</td>\n      <td>...</td>\n      <td>...</td>\n      <td>...</td>\n      <td>...</td>\n      <td>...</td>\n      <td>...</td>\n      <td>...</td>\n    </tr>\n    <tr>\n      <th>1110</th>\n      <td>2019</td>\n      <td>146</td>\n      <td>1120</td>\n      <td>77</td>\n      <td>1246</td>\n      <td>71</td>\n      <td>N</td>\n      <td>1</td>\n      <td>26</td>\n      <td>65</td>\n      <td>...</td>\n      <td>30</td>\n      <td>14</td>\n      <td>14</td>\n      <td>5</td>\n      <td>5</td>\n      <td>19</td>\n      <td>0.353846</td>\n      <td>0.646154</td>\n      <td>0.344262</td>\n      <td>0.655738</td>\n    </tr>\n    <tr>\n      <th>1111</th>\n      <td>2019</td>\n      <td>146</td>\n      <td>1277</td>\n      <td>68</td>\n      <td>1181</td>\n      <td>67</td>\n      <td>N</td>\n      <td>0</td>\n      <td>30</td>\n      <td>70</td>\n      <td>...</td>\n      <td>29</td>\n      <td>14</td>\n      <td>17</td>\n      <td>4</td>\n      <td>9</td>\n      <td>9</td>\n      <td>0.271429</td>\n      <td>0.728571</td>\n      <td>0.368421</td>\n      <td>0.631579</td>\n    </tr>\n    <tr>\n      <th>1112</th>\n      <td>2019</td>\n      <td>152</td>\n      <td>1403</td>\n      <td>61</td>\n      <td>1277</td>\n      <td>51</td>\n      <td>N</td>\n      <td>0</td>\n      <td>22</td>\n      <td>51</td>\n      <td>...</td>\n      <td>28</td>\n      <td>6</td>\n      <td>11</td>\n      <td>1</td>\n      <td>2</td>\n      <td>15</td>\n      <td>0.450980</td>\n      <td>0.549020</td>\n      <td>0.510638</td>\n      <td>0.489362</td>\n    </tr>\n    <tr>\n      <th>1113</th>\n      <td>2019</td>\n      <td>152</td>\n      <td>1438</td>\n      <td>63</td>\n      <td>1120</td>\n      <td>62</td>\n      <td>N</td>\n      <td>0</td>\n      <td>25</td>\n      <td>51</td>\n      <td>...</td>\n      <td>24</td>\n      <td>9</td>\n      <td>5</td>\n      <td>3</td>\n      <td>3</td>\n      <td>12</td>\n      <td>0.372549</td>\n      <td>0.627451</td>\n      <td>0.563636</td>\n      <td>0.436364</td>\n    </tr>\n    <tr>\n      <th>1114</th>\n      <td>2019</td>\n      <td>154</td>\n      <td>1438</td>\n      <td>85</td>\n      <td>1403</td>\n      <td>77</td>\n      <td>N</td>\n      <td>1</td>\n      <td>27</td>\n      <td>59</td>\n      <td>...</td>\n      <td>23</td>\n      <td>9</td>\n      <td>8</td>\n      <td>6</td>\n      <td>3</td>\n      <td>18</td>\n      <td>0.406780</td>\n      <td>0.593220</td>\n      <td>0.476190</td>\n      <td>0.523810</td>\n    </tr>\n  </tbody>\n</table>\n<p>1115 rows × 38 columns</p>\n</div>"
     },
     "metadata": {},
     "execution_count": 8
    }
   ],
   "source": [
    "# New Tournament box scores with new features\n",
    "dTourneyResults"
   ]
  },
  {
   "source": [
    "## KenPom Rankings Setup (for model)"
   ],
   "cell_type": "markdown",
   "metadata": {}
  },
  {
   "cell_type": "code",
   "execution_count": 9,
   "metadata": {},
   "outputs": [
    {
     "output_type": "execute_result",
     "data": {
      "text/plain": [
       "      Rk                    Team  Conf   W-L  AdjEM   AdjO   AdjD  AdjT  \\\n",
       "0      1                 Gonzaga   WCC  26-0  37.92  126.8   88.9  74.8   \n",
       "1      2                Michigan   B10  20-3  32.46  120.4   88.0  67.1   \n",
       "2      3                Illinois   B10  21-6  31.36  119.6   88.3  70.6   \n",
       "3      4                    Iowa   B10  21-7  30.75  125.0   94.3  69.9   \n",
       "4      5                  Baylor   B12  22-2  30.74  124.1   93.3  68.5   \n",
       "..   ...                     ...   ...   ...    ...    ...    ...   ...   \n",
       "352  353       South Carolina St  MEAC  17-1 -23.69   87.7  111.4  72.0   \n",
       "353  354              Alabama St  SWAC  14-4 -25.30   84.6  109.9  71.1   \n",
       "354  355  Maryland Eastern Shore  MEAC   0-0 -25.73   84.8  110.5  68.0   \n",
       "355  356              Chicago St   WAC   0-9 -28.06   89.0  117.1  67.8   \n",
       "356  357   Mississippi Valley St  SWAC  22-2 -40.63   79.6  120.3  71.5   \n",
       "\n",
       "      Luck  AdjEM.1   OppO   OppD  AdjEM.2  TeamID  \n",
       "0    0.018     7.67  105.8   98.1     5.88  1211.0  \n",
       "1    0.052    16.29  110.9   94.6     2.90  1276.0  \n",
       "2    0.015    17.92  111.7   93.8     9.47  1228.0  \n",
       "3   -0.019    16.11  110.0   93.9    -5.56  1234.0  \n",
       "4    0.050     9.40  106.4   97.0    -4.40  1124.0  \n",
       "..     ...      ...    ...    ...      ...     ...  \n",
       "352 -0.109    -4.83   98.2  103.0     1.87     NaN  \n",
       "353 -0.049   -15.73   90.9  106.6   -99.00  1106.0  \n",
       "354  0.000   -99.00    0.0  200.0   -99.00     NaN  \n",
       "355 -0.006     8.80  106.8   98.0     8.80  1152.0  \n",
       "356  0.040    -5.16   96.9  102.0    15.03     NaN  \n",
       "\n",
       "[357 rows x 14 columns]"
      ],
      "text/html": "<div>\n<style scoped>\n    .dataframe tbody tr th:only-of-type {\n        vertical-align: middle;\n    }\n\n    .dataframe tbody tr th {\n        vertical-align: top;\n    }\n\n    .dataframe thead th {\n        text-align: right;\n    }\n</style>\n<table border=\"1\" class=\"dataframe\">\n  <thead>\n    <tr style=\"text-align: right;\">\n      <th></th>\n      <th>Rk</th>\n      <th>Team</th>\n      <th>Conf</th>\n      <th>W-L</th>\n      <th>AdjEM</th>\n      <th>AdjO</th>\n      <th>AdjD</th>\n      <th>AdjT</th>\n      <th>Luck</th>\n      <th>AdjEM.1</th>\n      <th>OppO</th>\n      <th>OppD</th>\n      <th>AdjEM.2</th>\n      <th>TeamID</th>\n    </tr>\n  </thead>\n  <tbody>\n    <tr>\n      <th>0</th>\n      <td>1</td>\n      <td>Gonzaga</td>\n      <td>WCC</td>\n      <td>26-0</td>\n      <td>37.92</td>\n      <td>126.8</td>\n      <td>88.9</td>\n      <td>74.8</td>\n      <td>0.018</td>\n      <td>7.67</td>\n      <td>105.8</td>\n      <td>98.1</td>\n      <td>5.88</td>\n      <td>1211.0</td>\n    </tr>\n    <tr>\n      <th>1</th>\n      <td>2</td>\n      <td>Michigan</td>\n      <td>B10</td>\n      <td>20-3</td>\n      <td>32.46</td>\n      <td>120.4</td>\n      <td>88.0</td>\n      <td>67.1</td>\n      <td>0.052</td>\n      <td>16.29</td>\n      <td>110.9</td>\n      <td>94.6</td>\n      <td>2.90</td>\n      <td>1276.0</td>\n    </tr>\n    <tr>\n      <th>2</th>\n      <td>3</td>\n      <td>Illinois</td>\n      <td>B10</td>\n      <td>21-6</td>\n      <td>31.36</td>\n      <td>119.6</td>\n      <td>88.3</td>\n      <td>70.6</td>\n      <td>0.015</td>\n      <td>17.92</td>\n      <td>111.7</td>\n      <td>93.8</td>\n      <td>9.47</td>\n      <td>1228.0</td>\n    </tr>\n    <tr>\n      <th>3</th>\n      <td>4</td>\n      <td>Iowa</td>\n      <td>B10</td>\n      <td>21-7</td>\n      <td>30.75</td>\n      <td>125.0</td>\n      <td>94.3</td>\n      <td>69.9</td>\n      <td>-0.019</td>\n      <td>16.11</td>\n      <td>110.0</td>\n      <td>93.9</td>\n      <td>-5.56</td>\n      <td>1234.0</td>\n    </tr>\n    <tr>\n      <th>4</th>\n      <td>5</td>\n      <td>Baylor</td>\n      <td>B12</td>\n      <td>22-2</td>\n      <td>30.74</td>\n      <td>124.1</td>\n      <td>93.3</td>\n      <td>68.5</td>\n      <td>0.050</td>\n      <td>9.40</td>\n      <td>106.4</td>\n      <td>97.0</td>\n      <td>-4.40</td>\n      <td>1124.0</td>\n    </tr>\n    <tr>\n      <th>...</th>\n      <td>...</td>\n      <td>...</td>\n      <td>...</td>\n      <td>...</td>\n      <td>...</td>\n      <td>...</td>\n      <td>...</td>\n      <td>...</td>\n      <td>...</td>\n      <td>...</td>\n      <td>...</td>\n      <td>...</td>\n      <td>...</td>\n      <td>...</td>\n    </tr>\n    <tr>\n      <th>352</th>\n      <td>353</td>\n      <td>South Carolina St</td>\n      <td>MEAC</td>\n      <td>17-1</td>\n      <td>-23.69</td>\n      <td>87.7</td>\n      <td>111.4</td>\n      <td>72.0</td>\n      <td>-0.109</td>\n      <td>-4.83</td>\n      <td>98.2</td>\n      <td>103.0</td>\n      <td>1.87</td>\n      <td>NaN</td>\n    </tr>\n    <tr>\n      <th>353</th>\n      <td>354</td>\n      <td>Alabama St</td>\n      <td>SWAC</td>\n      <td>14-4</td>\n      <td>-25.30</td>\n      <td>84.6</td>\n      <td>109.9</td>\n      <td>71.1</td>\n      <td>-0.049</td>\n      <td>-15.73</td>\n      <td>90.9</td>\n      <td>106.6</td>\n      <td>-99.00</td>\n      <td>1106.0</td>\n    </tr>\n    <tr>\n      <th>354</th>\n      <td>355</td>\n      <td>Maryland Eastern Shore</td>\n      <td>MEAC</td>\n      <td>0-0</td>\n      <td>-25.73</td>\n      <td>84.8</td>\n      <td>110.5</td>\n      <td>68.0</td>\n      <td>0.000</td>\n      <td>-99.00</td>\n      <td>0.0</td>\n      <td>200.0</td>\n      <td>-99.00</td>\n      <td>NaN</td>\n    </tr>\n    <tr>\n      <th>355</th>\n      <td>356</td>\n      <td>Chicago St</td>\n      <td>WAC</td>\n      <td>0-9</td>\n      <td>-28.06</td>\n      <td>89.0</td>\n      <td>117.1</td>\n      <td>67.8</td>\n      <td>-0.006</td>\n      <td>8.80</td>\n      <td>106.8</td>\n      <td>98.0</td>\n      <td>8.80</td>\n      <td>1152.0</td>\n    </tr>\n    <tr>\n      <th>356</th>\n      <td>357</td>\n      <td>Mississippi Valley St</td>\n      <td>SWAC</td>\n      <td>22-2</td>\n      <td>-40.63</td>\n      <td>79.6</td>\n      <td>120.3</td>\n      <td>71.5</td>\n      <td>0.040</td>\n      <td>-5.16</td>\n      <td>96.9</td>\n      <td>102.0</td>\n      <td>15.03</td>\n      <td>NaN</td>\n    </tr>\n  </tbody>\n</table>\n<p>357 rows × 14 columns</p>\n</div>"
     },
     "metadata": {},
     "execution_count": 9
    }
   ],
   "source": [
    "kpom = pd.read_csv(\"../Data/kpom.csv\")\n",
    "teams = pd.read_csv(\"../Data/MTeams.csv\")\n",
    "teams = teams.set_index(\"TeamName\")\n",
    "kpom"
   ]
  },
  {
   "cell_type": "code",
   "execution_count": 10,
   "metadata": {
    "tags": []
   },
   "outputs": [],
   "source": [
    "# Commented out so there is no need to add teamIDs everytime (only on first run)\n",
    "\n",
    "# def getTeamID(row):\n",
    "#     teamName = row[\"Team\"]\n",
    "#     if teamName in teams.index:\n",
    "#         return teams.loc[teamName][\"TeamID\"]\n",
    "# kpom[\"TeamID\"] = kpom.apply(getTeamID , axis=1)\n",
    "# kpom.to_csv(\"../Data/kpom.csv\", index=False)"
   ]
  },
  {
   "source": [
    "## Feature Setup for Logistic Regression Model\n",
    "The output of this section are a few datasets:\n",
    "- xTrain - features training data\n",
    "- yTrain - label training data\n",
    "- xTest - features test data\n",
    "- yTest - label test data\n",
    "- features - features by team, as utilized in making further predictions\n",
    "\n",
    "Model features are:\n",
    "- Seed Differential\n",
    "- KenPom Ranking\n",
    "- FG%\n",
    "- FGM\n",
    "- Pts\n",
    "- TS%\n",
    "- Possesions\n",
    "- Defensive Rebounds\n",
    "- Assists\n",
    "- Offensive Rating\n",
    "- Defensive Rating\n",
    "- Net Rating\n",
    "- Team PIE\n",
    "\n",
    "as exploratory data analysis showed these variables to have a stronger correlation with point differential, which dictates wins.\n",
    "\n",
    "There are 4 of each variable in a training example (except for seed differential, only one, and KenPom Ranking, only one per team). Each team has 2 of each variable for historical regular season performance and postseason performance, for both the winning team and losing team. In total then, there are about 47 variables."
   ],
   "cell_type": "markdown",
   "metadata": {}
  },
  {
   "cell_type": "code",
   "execution_count": 11,
   "metadata": {},
   "outputs": [
    {
     "output_type": "execute_result",
     "data": {
      "text/plain": [
       "      Season  DayNum  WTeamID  WScore  LTeamID  LScore WLoc  NumOT  WFGM  \\\n",
       "0       2003     134     1421      92     1411      84    N      1    32   \n",
       "1       2003     136     1112      80     1436      51    N      0    31   \n",
       "2       2003     136     1113      84     1272      71    N      0    31   \n",
       "3       2003     136     1141      79     1166      73    N      0    29   \n",
       "4       2003     136     1143      76     1301      74    N      1    27   \n",
       "...      ...     ...      ...     ...      ...     ...  ...    ...   ...   \n",
       "1110    2019     146     1120      77     1246      71    N      1    26   \n",
       "1111    2019     146     1277      68     1181      67    N      0    30   \n",
       "1112    2019     152     1403      61     1277      51    N      0    22   \n",
       "1113    2019     152     1438      63     1120      62    N      0    25   \n",
       "1114    2019     154     1438      85     1403      77    N      1    27   \n",
       "\n",
       "      WFGA  ...  LTO  LStl  LBlk  LPF    WFGA%3    WFGA%2    LFGA%3    LFGA%2  \\\n",
       "0       69  ...   15     5     0   22  0.420290  0.579710  0.462687  0.537313   \n",
       "1       66  ...   17    10     3   15  0.348485  0.651515  0.250000  0.750000   \n",
       "2       59  ...   12     2     5   18  0.237288  0.762712  0.405797  0.594203   \n",
       "3       53  ...   21     6     6   21  0.132075  0.867925  0.283333  0.716667   \n",
       "4       64  ...   14     5     8   19  0.312500  0.687500  0.375000  0.625000   \n",
       "...    ...  ...  ...   ...   ...  ...       ...       ...       ...       ...   \n",
       "1110    65  ...   14     5     5   19  0.353846  0.646154  0.344262  0.655738   \n",
       "1111    70  ...   17     4     9    9  0.271429  0.728571  0.368421  0.631579   \n",
       "1112    51  ...   11     1     2   15  0.450980  0.549020  0.510638  0.489362   \n",
       "1113    51  ...    5     3     3   12  0.372549  0.627451  0.563636  0.436364   \n",
       "1114    59  ...    8     6     3   18  0.406780  0.593220  0.476190  0.523810   \n",
       "\n",
       "      WSeed  LSeed  \n",
       "0      16.0   16.0  \n",
       "1       1.0   16.0  \n",
       "2      10.0    7.0  \n",
       "3      11.0    6.0  \n",
       "4       8.0    9.0  \n",
       "...     ...    ...  \n",
       "1110    5.0    2.0  \n",
       "1111    2.0    1.0  \n",
       "1112    3.0    2.0  \n",
       "1113    1.0    5.0  \n",
       "1114    1.0    3.0  \n",
       "\n",
       "[1115 rows x 40 columns]"
      ],
      "text/html": "<div>\n<style scoped>\n    .dataframe tbody tr th:only-of-type {\n        vertical-align: middle;\n    }\n\n    .dataframe tbody tr th {\n        vertical-align: top;\n    }\n\n    .dataframe thead th {\n        text-align: right;\n    }\n</style>\n<table border=\"1\" class=\"dataframe\">\n  <thead>\n    <tr style=\"text-align: right;\">\n      <th></th>\n      <th>Season</th>\n      <th>DayNum</th>\n      <th>WTeamID</th>\n      <th>WScore</th>\n      <th>LTeamID</th>\n      <th>LScore</th>\n      <th>WLoc</th>\n      <th>NumOT</th>\n      <th>WFGM</th>\n      <th>WFGA</th>\n      <th>...</th>\n      <th>LTO</th>\n      <th>LStl</th>\n      <th>LBlk</th>\n      <th>LPF</th>\n      <th>WFGA%3</th>\n      <th>WFGA%2</th>\n      <th>LFGA%3</th>\n      <th>LFGA%2</th>\n      <th>WSeed</th>\n      <th>LSeed</th>\n    </tr>\n  </thead>\n  <tbody>\n    <tr>\n      <th>0</th>\n      <td>2003</td>\n      <td>134</td>\n      <td>1421</td>\n      <td>92</td>\n      <td>1411</td>\n      <td>84</td>\n      <td>N</td>\n      <td>1</td>\n      <td>32</td>\n      <td>69</td>\n      <td>...</td>\n      <td>15</td>\n      <td>5</td>\n      <td>0</td>\n      <td>22</td>\n      <td>0.420290</td>\n      <td>0.579710</td>\n      <td>0.462687</td>\n      <td>0.537313</td>\n      <td>16.0</td>\n      <td>16.0</td>\n    </tr>\n    <tr>\n      <th>1</th>\n      <td>2003</td>\n      <td>136</td>\n      <td>1112</td>\n      <td>80</td>\n      <td>1436</td>\n      <td>51</td>\n      <td>N</td>\n      <td>0</td>\n      <td>31</td>\n      <td>66</td>\n      <td>...</td>\n      <td>17</td>\n      <td>10</td>\n      <td>3</td>\n      <td>15</td>\n      <td>0.348485</td>\n      <td>0.651515</td>\n      <td>0.250000</td>\n      <td>0.750000</td>\n      <td>1.0</td>\n      <td>16.0</td>\n    </tr>\n    <tr>\n      <th>2</th>\n      <td>2003</td>\n      <td>136</td>\n      <td>1113</td>\n      <td>84</td>\n      <td>1272</td>\n      <td>71</td>\n      <td>N</td>\n      <td>0</td>\n      <td>31</td>\n      <td>59</td>\n      <td>...</td>\n      <td>12</td>\n      <td>2</td>\n      <td>5</td>\n      <td>18</td>\n      <td>0.237288</td>\n      <td>0.762712</td>\n      <td>0.405797</td>\n      <td>0.594203</td>\n      <td>10.0</td>\n      <td>7.0</td>\n    </tr>\n    <tr>\n      <th>3</th>\n      <td>2003</td>\n      <td>136</td>\n      <td>1141</td>\n      <td>79</td>\n      <td>1166</td>\n      <td>73</td>\n      <td>N</td>\n      <td>0</td>\n      <td>29</td>\n      <td>53</td>\n      <td>...</td>\n      <td>21</td>\n      <td>6</td>\n      <td>6</td>\n      <td>21</td>\n      <td>0.132075</td>\n      <td>0.867925</td>\n      <td>0.283333</td>\n      <td>0.716667</td>\n      <td>11.0</td>\n      <td>6.0</td>\n    </tr>\n    <tr>\n      <th>4</th>\n      <td>2003</td>\n      <td>136</td>\n      <td>1143</td>\n      <td>76</td>\n      <td>1301</td>\n      <td>74</td>\n      <td>N</td>\n      <td>1</td>\n      <td>27</td>\n      <td>64</td>\n      <td>...</td>\n      <td>14</td>\n      <td>5</td>\n      <td>8</td>\n      <td>19</td>\n      <td>0.312500</td>\n      <td>0.687500</td>\n      <td>0.375000</td>\n      <td>0.625000</td>\n      <td>8.0</td>\n      <td>9.0</td>\n    </tr>\n    <tr>\n      <th>...</th>\n      <td>...</td>\n      <td>...</td>\n      <td>...</td>\n      <td>...</td>\n      <td>...</td>\n      <td>...</td>\n      <td>...</td>\n      <td>...</td>\n      <td>...</td>\n      <td>...</td>\n      <td>...</td>\n      <td>...</td>\n      <td>...</td>\n      <td>...</td>\n      <td>...</td>\n      <td>...</td>\n      <td>...</td>\n      <td>...</td>\n      <td>...</td>\n      <td>...</td>\n      <td>...</td>\n    </tr>\n    <tr>\n      <th>1110</th>\n      <td>2019</td>\n      <td>146</td>\n      <td>1120</td>\n      <td>77</td>\n      <td>1246</td>\n      <td>71</td>\n      <td>N</td>\n      <td>1</td>\n      <td>26</td>\n      <td>65</td>\n      <td>...</td>\n      <td>14</td>\n      <td>5</td>\n      <td>5</td>\n      <td>19</td>\n      <td>0.353846</td>\n      <td>0.646154</td>\n      <td>0.344262</td>\n      <td>0.655738</td>\n      <td>5.0</td>\n      <td>2.0</td>\n    </tr>\n    <tr>\n      <th>1111</th>\n      <td>2019</td>\n      <td>146</td>\n      <td>1277</td>\n      <td>68</td>\n      <td>1181</td>\n      <td>67</td>\n      <td>N</td>\n      <td>0</td>\n      <td>30</td>\n      <td>70</td>\n      <td>...</td>\n      <td>17</td>\n      <td>4</td>\n      <td>9</td>\n      <td>9</td>\n      <td>0.271429</td>\n      <td>0.728571</td>\n      <td>0.368421</td>\n      <td>0.631579</td>\n      <td>2.0</td>\n      <td>1.0</td>\n    </tr>\n    <tr>\n      <th>1112</th>\n      <td>2019</td>\n      <td>152</td>\n      <td>1403</td>\n      <td>61</td>\n      <td>1277</td>\n      <td>51</td>\n      <td>N</td>\n      <td>0</td>\n      <td>22</td>\n      <td>51</td>\n      <td>...</td>\n      <td>11</td>\n      <td>1</td>\n      <td>2</td>\n      <td>15</td>\n      <td>0.450980</td>\n      <td>0.549020</td>\n      <td>0.510638</td>\n      <td>0.489362</td>\n      <td>3.0</td>\n      <td>2.0</td>\n    </tr>\n    <tr>\n      <th>1113</th>\n      <td>2019</td>\n      <td>152</td>\n      <td>1438</td>\n      <td>63</td>\n      <td>1120</td>\n      <td>62</td>\n      <td>N</td>\n      <td>0</td>\n      <td>25</td>\n      <td>51</td>\n      <td>...</td>\n      <td>5</td>\n      <td>3</td>\n      <td>3</td>\n      <td>12</td>\n      <td>0.372549</td>\n      <td>0.627451</td>\n      <td>0.563636</td>\n      <td>0.436364</td>\n      <td>1.0</td>\n      <td>5.0</td>\n    </tr>\n    <tr>\n      <th>1114</th>\n      <td>2019</td>\n      <td>154</td>\n      <td>1438</td>\n      <td>85</td>\n      <td>1403</td>\n      <td>77</td>\n      <td>N</td>\n      <td>1</td>\n      <td>27</td>\n      <td>59</td>\n      <td>...</td>\n      <td>8</td>\n      <td>6</td>\n      <td>3</td>\n      <td>18</td>\n      <td>0.406780</td>\n      <td>0.593220</td>\n      <td>0.476190</td>\n      <td>0.523810</td>\n      <td>1.0</td>\n      <td>3.0</td>\n    </tr>\n  </tbody>\n</table>\n<p>1115 rows × 40 columns</p>\n</div>"
     },
     "metadata": {},
     "execution_count": 11
    }
   ],
   "source": [
    "# Merging seeds with tourney dataset, code written by jacobrichman27\n",
    "seeds = pd.read_csv(\"../Data/MNCAATourneySeeds.csv\")\n",
    "dTourneyResults = dTourneyResults.merge(seeds, how='left', left_on=['Season', 'WTeamID'], right_on=['Season', 'TeamID']).drop('TeamID', axis=1).rename(columns={'Seed': 'WSeed'})\n",
    "dTourneyResults = dTourneyResults.merge(seeds, how='left', left_on=['Season', 'LTeamID'], right_on=['Season', 'TeamID']).drop('TeamID', axis=1).rename(columns={'Seed': 'LSeed'})\n",
    "dTourneyResults['WSeed'] = dTourneyResults['WSeed'].str.replace(r'[^0-9]', '').astype('float')\n",
    "dTourneyResults['LSeed'] = dTourneyResults['LSeed'].str.replace(r'[^0-9]', '').astype('float')\n",
    "dTourneyResults"
   ]
  },
  {
   "cell_type": "code",
   "execution_count": 12,
   "metadata": {},
   "outputs": [],
   "source": [
    "# adding all the necessary features to data frame. This data will then be pulled to \n",
    "# form training data\n",
    "def addFeatures(df):\n",
    "    df[\"WFG%\"] = df.apply(lambda row: row.WFGM/row.WFGA, axis=1)\n",
    "    df[\"LFG%\"] = df.apply(lambda row: row.LFGM/row.LFGA, axis=1)\n",
    "    df[\"WPts\"] = df.apply(lambda row: 2*row.WFGM + row.WFGM3 + row.WFTM, axis=1)\n",
    "    df[\"LPts\"] = df.apply(lambda row: 2*row.LFGM + row.LFGM3 + row.LFTM, axis=1)\n",
    "    df[\"WTS%\"] = df.apply(lambda row: row.WPts/(2*(row.WFGA + 0.44 * row.WFTA)), axis=1)\n",
    "    df[\"LTS%\"] = df.apply(lambda row: row.LPts/(2*(row.LFGA + 0.44 * row.LFTA)), axis=1)\n",
    "    df[\"WPos\"] = df.apply(lambda row: 0.96*(row.WFGA - row.WOR + row.WTO + 0.44*row.WFTA), axis=1)\n",
    "    df[\"LPos\"] = df.apply(lambda row: 0.96*(row.LFGA - row.LOR + row.LTO + 0.44*row.LFTA), axis=1)\n",
    "    df[\"WOffRtg\"] = df.apply(lambda row: 100 * (row.WPts/row.WPos), axis=1)\n",
    "    df[\"LDefRtg\"] = df.WOffRtg\n",
    "    df[\"LOffRtg\"] = df.apply(lambda row: 100 * (row.LPts/row.LPos), axis=1)\n",
    "    df[\"WDefRtg\"] = df.LOffRtg\n",
    "    df[\"WNetRtg\"] = df.apply(lambda row: row.WOffRtg - row.WDefRtg, axis=1)\n",
    "    df[\"LNetRtg\"] = df.apply(lambda row: row.LOffRtg - row.LDefRtg, axis=1)\n",
    "    df[\"WPIE\"] = df.apply(lambda row: (row.WPts + row.WFGM+row.WFTM - row.WFGA - row.WFTA + row.WDR + 0.5*row.WOR + row.WAst +row.WStl + 0.5 * row.WBlk - row.WPF - row.WTO)/((row.LPts + row.WPts) + (row.LFGM + row.WFGM) + (row.LFTM+row.WFTM) - (row.LFGA+row.WFGA) - (row.LFTA+row.WFTA) + (row.LDR+row.WDR) + 0.5*(row.LOR+row.WOR) + (row.LAst+row.WAst) +(row.LStl+row.WStl) + 0.5 * (row.LBlk+row.WBlk) - (row.LPF+row.WPF) - (row.LTO+row.WTO)), axis=1)\n",
    "    df[\"LPIE\"] = df.apply(lambda row: (row.LPts + row.LFGM+row.LFTM - row.LFGA - row.LFTA + row.LDR + 0.5*row.LOR + row.LAst +row.LStl + 0.5 * row.LBlk - row.LPF - row.LTO)/((row.LPts + row.WPts) + (row.LFGM + row.WFGM) + (row.LFTM+row.WFTM) - (row.LFGA+row.WFGA) - (row.LFTA+row.WFTA) + (row.LDR+row.WDR) + 0.5*(row.LOR+row.WOR) + (row.LAst+row.WAst) +(row.LStl+row.WStl) + 0.5 * (row.LBlk+row.WBlk) - (row.LPF+row.WPF) - (row.LTO+row.WTO)), axis=1)\n"
   ]
  },
  {
   "cell_type": "code",
   "execution_count": 13,
   "metadata": {},
   "outputs": [
    {
     "output_type": "execute_result",
     "data": {
      "text/plain": [
       "      Season  DayNum  WTeamID  WScore  LTeamID  LScore WLoc  NumOT  WFGM  \\\n",
       "0       2003     134     1421      92     1411      84    N      1    32   \n",
       "1       2003     136     1112      80     1436      51    N      0    31   \n",
       "2       2003     136     1113      84     1272      71    N      0    31   \n",
       "3       2003     136     1141      79     1166      73    N      0    29   \n",
       "4       2003     136     1143      76     1301      74    N      1    27   \n",
       "...      ...     ...      ...     ...      ...     ...  ...    ...   ...   \n",
       "1110    2019     146     1120      77     1246      71    N      1    26   \n",
       "1111    2019     146     1277      68     1181      67    N      0    30   \n",
       "1112    2019     152     1403      61     1277      51    N      0    22   \n",
       "1113    2019     152     1438      63     1120      62    N      0    25   \n",
       "1114    2019     154     1438      85     1403      77    N      1    27   \n",
       "\n",
       "      WFGA  ...     WPos     LPos     WOffRtg     LDefRtg     LOffRtg  \\\n",
       "0       69  ...  75.3024  75.4944  122.174061  122.174061  111.266531   \n",
       "1       66  ...  74.0736  73.0368  108.000691  108.000691   69.827813   \n",
       "2       59  ...  64.9728  67.4304  129.284870  129.284870  105.293755   \n",
       "3       53  ...  68.1600  71.5008  115.903756  115.903756  102.096760   \n",
       "4       64  ...  66.3552  66.0480  114.535108  114.535108  112.039729   \n",
       "...    ...  ...      ...      ...         ...         ...         ...   \n",
       "1110    65  ...  69.6576  70.3104  110.540702  110.540702  100.980794   \n",
       "1111    70  ...  65.8944  64.0512  103.195416  103.195416  104.603817   \n",
       "1112    51  ...  58.2912  55.6032  104.647014  104.647014   91.721340   \n",
       "1113    51  ...  56.9088  54.8736  110.703441  110.703441  112.986937   \n",
       "1114    59  ...  66.3552  65.8560  128.098476  128.098476  116.921769   \n",
       "\n",
       "         WDefRtg    WNetRtg    LNetRtg      WPIE      LPIE  \n",
       "0     111.266531  10.907530 -10.907530  0.594262  0.405738  \n",
       "1      69.827813  38.172878 -38.172878  0.769231  0.230769  \n",
       "2     105.293755  23.991115 -23.991115  0.683544  0.316456  \n",
       "3     102.096760  13.806996 -13.806996  0.585586  0.414414  \n",
       "4     112.039729   2.495379  -2.495379  0.491667  0.508333  \n",
       "...          ...        ...        ...       ...       ...  \n",
       "1110  100.980794   9.559908  -9.559908  0.511737  0.488263  \n",
       "1111  104.603817  -1.408401   1.408401  0.496000  0.504000  \n",
       "1112   91.721340  12.925674 -12.925674  0.605442  0.394558  \n",
       "1113  112.986937  -2.283496   2.283496  0.545455  0.454545  \n",
       "1114  116.921769  11.176707 -11.176707  0.577778  0.422222  \n",
       "\n",
       "[1115 rows x 56 columns]"
      ],
      "text/html": "<div>\n<style scoped>\n    .dataframe tbody tr th:only-of-type {\n        vertical-align: middle;\n    }\n\n    .dataframe tbody tr th {\n        vertical-align: top;\n    }\n\n    .dataframe thead th {\n        text-align: right;\n    }\n</style>\n<table border=\"1\" class=\"dataframe\">\n  <thead>\n    <tr style=\"text-align: right;\">\n      <th></th>\n      <th>Season</th>\n      <th>DayNum</th>\n      <th>WTeamID</th>\n      <th>WScore</th>\n      <th>LTeamID</th>\n      <th>LScore</th>\n      <th>WLoc</th>\n      <th>NumOT</th>\n      <th>WFGM</th>\n      <th>WFGA</th>\n      <th>...</th>\n      <th>WPos</th>\n      <th>LPos</th>\n      <th>WOffRtg</th>\n      <th>LDefRtg</th>\n      <th>LOffRtg</th>\n      <th>WDefRtg</th>\n      <th>WNetRtg</th>\n      <th>LNetRtg</th>\n      <th>WPIE</th>\n      <th>LPIE</th>\n    </tr>\n  </thead>\n  <tbody>\n    <tr>\n      <th>0</th>\n      <td>2003</td>\n      <td>134</td>\n      <td>1421</td>\n      <td>92</td>\n      <td>1411</td>\n      <td>84</td>\n      <td>N</td>\n      <td>1</td>\n      <td>32</td>\n      <td>69</td>\n      <td>...</td>\n      <td>75.3024</td>\n      <td>75.4944</td>\n      <td>122.174061</td>\n      <td>122.174061</td>\n      <td>111.266531</td>\n      <td>111.266531</td>\n      <td>10.907530</td>\n      <td>-10.907530</td>\n      <td>0.594262</td>\n      <td>0.405738</td>\n    </tr>\n    <tr>\n      <th>1</th>\n      <td>2003</td>\n      <td>136</td>\n      <td>1112</td>\n      <td>80</td>\n      <td>1436</td>\n      <td>51</td>\n      <td>N</td>\n      <td>0</td>\n      <td>31</td>\n      <td>66</td>\n      <td>...</td>\n      <td>74.0736</td>\n      <td>73.0368</td>\n      <td>108.000691</td>\n      <td>108.000691</td>\n      <td>69.827813</td>\n      <td>69.827813</td>\n      <td>38.172878</td>\n      <td>-38.172878</td>\n      <td>0.769231</td>\n      <td>0.230769</td>\n    </tr>\n    <tr>\n      <th>2</th>\n      <td>2003</td>\n      <td>136</td>\n      <td>1113</td>\n      <td>84</td>\n      <td>1272</td>\n      <td>71</td>\n      <td>N</td>\n      <td>0</td>\n      <td>31</td>\n      <td>59</td>\n      <td>...</td>\n      <td>64.9728</td>\n      <td>67.4304</td>\n      <td>129.284870</td>\n      <td>129.284870</td>\n      <td>105.293755</td>\n      <td>105.293755</td>\n      <td>23.991115</td>\n      <td>-23.991115</td>\n      <td>0.683544</td>\n      <td>0.316456</td>\n    </tr>\n    <tr>\n      <th>3</th>\n      <td>2003</td>\n      <td>136</td>\n      <td>1141</td>\n      <td>79</td>\n      <td>1166</td>\n      <td>73</td>\n      <td>N</td>\n      <td>0</td>\n      <td>29</td>\n      <td>53</td>\n      <td>...</td>\n      <td>68.1600</td>\n      <td>71.5008</td>\n      <td>115.903756</td>\n      <td>115.903756</td>\n      <td>102.096760</td>\n      <td>102.096760</td>\n      <td>13.806996</td>\n      <td>-13.806996</td>\n      <td>0.585586</td>\n      <td>0.414414</td>\n    </tr>\n    <tr>\n      <th>4</th>\n      <td>2003</td>\n      <td>136</td>\n      <td>1143</td>\n      <td>76</td>\n      <td>1301</td>\n      <td>74</td>\n      <td>N</td>\n      <td>1</td>\n      <td>27</td>\n      <td>64</td>\n      <td>...</td>\n      <td>66.3552</td>\n      <td>66.0480</td>\n      <td>114.535108</td>\n      <td>114.535108</td>\n      <td>112.039729</td>\n      <td>112.039729</td>\n      <td>2.495379</td>\n      <td>-2.495379</td>\n      <td>0.491667</td>\n      <td>0.508333</td>\n    </tr>\n    <tr>\n      <th>...</th>\n      <td>...</td>\n      <td>...</td>\n      <td>...</td>\n      <td>...</td>\n      <td>...</td>\n      <td>...</td>\n      <td>...</td>\n      <td>...</td>\n      <td>...</td>\n      <td>...</td>\n      <td>...</td>\n      <td>...</td>\n      <td>...</td>\n      <td>...</td>\n      <td>...</td>\n      <td>...</td>\n      <td>...</td>\n      <td>...</td>\n      <td>...</td>\n      <td>...</td>\n      <td>...</td>\n    </tr>\n    <tr>\n      <th>1110</th>\n      <td>2019</td>\n      <td>146</td>\n      <td>1120</td>\n      <td>77</td>\n      <td>1246</td>\n      <td>71</td>\n      <td>N</td>\n      <td>1</td>\n      <td>26</td>\n      <td>65</td>\n      <td>...</td>\n      <td>69.6576</td>\n      <td>70.3104</td>\n      <td>110.540702</td>\n      <td>110.540702</td>\n      <td>100.980794</td>\n      <td>100.980794</td>\n      <td>9.559908</td>\n      <td>-9.559908</td>\n      <td>0.511737</td>\n      <td>0.488263</td>\n    </tr>\n    <tr>\n      <th>1111</th>\n      <td>2019</td>\n      <td>146</td>\n      <td>1277</td>\n      <td>68</td>\n      <td>1181</td>\n      <td>67</td>\n      <td>N</td>\n      <td>0</td>\n      <td>30</td>\n      <td>70</td>\n      <td>...</td>\n      <td>65.8944</td>\n      <td>64.0512</td>\n      <td>103.195416</td>\n      <td>103.195416</td>\n      <td>104.603817</td>\n      <td>104.603817</td>\n      <td>-1.408401</td>\n      <td>1.408401</td>\n      <td>0.496000</td>\n      <td>0.504000</td>\n    </tr>\n    <tr>\n      <th>1112</th>\n      <td>2019</td>\n      <td>152</td>\n      <td>1403</td>\n      <td>61</td>\n      <td>1277</td>\n      <td>51</td>\n      <td>N</td>\n      <td>0</td>\n      <td>22</td>\n      <td>51</td>\n      <td>...</td>\n      <td>58.2912</td>\n      <td>55.6032</td>\n      <td>104.647014</td>\n      <td>104.647014</td>\n      <td>91.721340</td>\n      <td>91.721340</td>\n      <td>12.925674</td>\n      <td>-12.925674</td>\n      <td>0.605442</td>\n      <td>0.394558</td>\n    </tr>\n    <tr>\n      <th>1113</th>\n      <td>2019</td>\n      <td>152</td>\n      <td>1438</td>\n      <td>63</td>\n      <td>1120</td>\n      <td>62</td>\n      <td>N</td>\n      <td>0</td>\n      <td>25</td>\n      <td>51</td>\n      <td>...</td>\n      <td>56.9088</td>\n      <td>54.8736</td>\n      <td>110.703441</td>\n      <td>110.703441</td>\n      <td>112.986937</td>\n      <td>112.986937</td>\n      <td>-2.283496</td>\n      <td>2.283496</td>\n      <td>0.545455</td>\n      <td>0.454545</td>\n    </tr>\n    <tr>\n      <th>1114</th>\n      <td>2019</td>\n      <td>154</td>\n      <td>1438</td>\n      <td>85</td>\n      <td>1403</td>\n      <td>77</td>\n      <td>N</td>\n      <td>1</td>\n      <td>27</td>\n      <td>59</td>\n      <td>...</td>\n      <td>66.3552</td>\n      <td>65.8560</td>\n      <td>128.098476</td>\n      <td>128.098476</td>\n      <td>116.921769</td>\n      <td>116.921769</td>\n      <td>11.176707</td>\n      <td>-11.176707</td>\n      <td>0.577778</td>\n      <td>0.422222</td>\n    </tr>\n  </tbody>\n</table>\n<p>1115 rows × 56 columns</p>\n</div>"
     },
     "metadata": {},
     "execution_count": 13
    }
   ],
   "source": [
    "addFeatures(dRegSeasonResults)\n",
    "addFeatures(dTourneyResults)\n",
    "dTourneyResults"
   ]
  },
  {
   "cell_type": "code",
   "execution_count": 14,
   "metadata": {},
   "outputs": [],
   "source": [
    "# Data Frame of all features for a single team\n",
    "train = {\"TeamID\": [], \"KPomRk\":[], \"RFGM\":[], \"RFG%\": [],\"RPts\": [],\"RTS%\": [],\"RPos\": [],\"ROffRtg\": [], \"RDR\":[], \"RAst\":[], \"RDefRtg\": [],\"RPIE\": [], \"RNetRtg\":[], \"TFGM\":[], \"TFG%\": [],\"TPts\": [],\"TTS%\": [],\"TPos\": [],\"TOffRtg\": [], \"TDR\":[], \"TAst\":[], \"TDefRtg\": [],\"TPIE\": [], \"TNetRtg\":[]}\n",
    "test = {\"TeamID\": [], \"KPomRk\":[], \"RFGM\":[], \"RFG%\": [],\"RPts\": [],\"RTS%\": [],\"RPos\": [],\"ROffRtg\": [], \"RDR\":[], \"RAst\":[], \"RDefRtg\": [],\"RPIE\": [], \"RNetRtg\":[], \"TFGM\":[], \"TFG%\": [],\"TPts\": [],\"TTS%\": [],\"TPos\": [],\"TOffRtg\": [], \"TDR\":[], \"TAst\":[], \"TDefRtg\": [],\"TPIE\": [], \"TNetRtg\":[]}\n",
    "features = {\"TeamID\": [], \"KPomRk\":[], \"RFGM\":[], \"RFG%\": [],\"RPts\": [],\"RTS%\": [],\"RPos\": [],\"ROffRtg\": [], \"RDR\":[], \"RAst\":[], \"RDefRtg\": [],\"RPIE\": [], \"RNetRtg\":[], \"TFGM\":[], \"TFG%\": [],\"TPts\": [],\"TTS%\": [],\"TPos\": [],\"TOffRtg\": [], \"TDR\":[], \"TAst\":[], \"TDefRtg\": [],\"TPIE\": [], \"TNetRtg\":[]}\n",
    "\n",
    "\n"
   ]
  },
  {
   "cell_type": "code",
   "execution_count": 15,
   "metadata": {},
   "outputs": [],
   "source": [
    "# Populates dicts in above cell\n",
    "def populateDict(data, query):\n",
    "    print('WTeamID == %d & %s' % (-1,query))\n",
    "    kpomSorted = kpom.set_index(\"TeamID\")\n",
    "    for team in teams.set_index(\"TeamID\").index:\n",
    "        wTourneyRes = dTourneyResults.query('WTeamID == %d & %s' % (team,query))\n",
    "        lTourneyRes = dTourneyResults.query('LTeamID == %d & %s' % (team,query))\n",
    "        wRegSeasonRes = dRegSeasonResults.query('WTeamID == %d & %s' % (team,query))\n",
    "        lRegSeasonRes = dRegSeasonResults.query('LTeamID == %d & %s' % (team,query))\n",
    "        data[\"TeamID\"].append(team)\n",
    "        data[\"KPomRk\"].append(kpomSorted.loc[team][\"Rk\"] if team in kpomSorted.index else None)\n",
    "        data[\"TFGM\"].append((0 if pd.isna(wTourneyRes.WFGM.mean()) else wTourneyRes.WFGM.mean()) + (0 if pd.isna(lTourneyRes.LFGM.mean()) else lTourneyRes.LFGM.mean())/2)\n",
    "        data[\"TFG%\"].append((0 if pd.isna(wTourneyRes[\"WFG%\"].mean()) else wTourneyRes[\"WFG%\"].mean()) + (0 if pd.isna(lTourneyRes[\"LFG%\"].mean()) else lTourneyRes[\"LFG%\"].mean())/2)\n",
    "        data[\"TPts\"].append((0 if pd.isna(wTourneyRes.WPts.mean()) else wTourneyRes.WPts.mean()) + (0 if pd.isna(lTourneyRes.LPts.mean()) else lTourneyRes.LPts.mean())/2)\n",
    "        data[\"TTS%\"].append((0 if pd.isna(wTourneyRes[\"WTS%\"].mean()) else wTourneyRes[\"WTS%\"].mean()) + (0 if pd.isna(lTourneyRes[\"LTS%\"].mean()) else lTourneyRes[\"LTS%\"].mean())/2)\n",
    "        data[\"TPos\"].append((0 if pd.isna(wTourneyRes.WPos.mean()) else wTourneyRes.WPos.mean()) + (0 if pd.isna(lTourneyRes.LPos.mean()) else lTourneyRes.LPos.mean())/2)\n",
    "        data[\"TAst\"].append((0 if pd.isna(wTourneyRes.WAst.mean()) else wTourneyRes.WAst.mean()) + (0 if pd.isna(lTourneyRes.LAst.mean()) else lTourneyRes.LAst.mean())/2)\n",
    "        data[\"TDR\"].append((0 if pd.isna(wTourneyRes.WDR.mean()) else wTourneyRes.WDR.mean()) + (0 if pd.isna(lTourneyRes.LDR.mean()) else lTourneyRes.LDR.mean())/2)\n",
    "        data[\"TOffRtg\"].append((0 if pd.isna(wTourneyRes.WOffRtg.mean()) else wTourneyRes.WOffRtg.mean()) + (0 if pd.isna(lTourneyRes.LOffRtg.mean()) else lTourneyRes.LOffRtg.mean())/2)\n",
    "        data[\"TDefRtg\"].append((0 if pd.isna(wTourneyRes.WDefRtg.mean()) else wTourneyRes.WDefRtg.mean()) + (0 if pd.isna(lTourneyRes.LDefRtg.mean()) else lTourneyRes.LDefRtg.mean())/2)\n",
    "        data[\"TNetRtg\"].append((0 if pd.isna(wTourneyRes.WNetRtg.mean()) else wTourneyRes.WNetRtg.mean()) + (0 if pd.isna(lTourneyRes.LNetRtg.mean()) else lTourneyRes.LNetRtg.mean())/2)\n",
    "        data[\"TPIE\"].append((0 if pd.isna(wTourneyRes.WPIE.mean()) else wTourneyRes.WPIE.mean()) + (0 if pd.isna(lTourneyRes.LPIE.mean()) else lTourneyRes.LPIE.mean())/2)\n",
    "        data[\"RFGM\"].append((0 if pd.isna(wRegSeasonRes.WFGM.mean()) else wRegSeasonRes.WFGM.mean()) + (0 if pd.isna(lRegSeasonRes.LFGM.mean()) else lRegSeasonRes.LFGM.mean())/2)\n",
    "        data[\"RFG%\"].append((0 if pd.isna(wRegSeasonRes[\"WFG%\"].mean()) else wRegSeasonRes[\"WFG%\"].mean()) + (0 if pd.isna(lRegSeasonRes[\"LFG%\"].mean()) else lRegSeasonRes[\"LFG%\"].mean())/2)\n",
    "        data[\"RPts\"].append((0 if pd.isna(wRegSeasonRes.WPts.mean()) else wRegSeasonRes.WPts.mean()) + (0 if pd.isna(lRegSeasonRes.LPts.mean()) else lRegSeasonRes.LPts.mean())/2)\n",
    "        data[\"RTS%\"].append((0 if pd.isna(wRegSeasonRes[\"WTS%\"].mean()) else wRegSeasonRes[\"WTS%\"].mean()) + (0 if pd.isna(lRegSeasonRes[\"LTS%\"].mean()) else lRegSeasonRes[\"LTS%\"].mean())/2)\n",
    "        data[\"RPos\"].append((0 if pd.isna(wRegSeasonRes.WPos.mean()) else wRegSeasonRes.WPos.mean()) + (0 if pd.isna(lRegSeasonRes.LPos.mean()) else lRegSeasonRes.LPos.mean())/2)\n",
    "        data[\"RAst\"].append((0 if pd.isna(wRegSeasonRes.WAst.mean()) else wRegSeasonRes.WAst.mean()) + (0 if pd.isna(lRegSeasonRes.LAst.mean()) else lRegSeasonRes.LAst.mean())/2)\n",
    "        data[\"RDR\"].append((0 if pd.isna(wRegSeasonRes.WDR.mean()) else wRegSeasonRes.WDR.mean()) + (0 if pd.isna(lRegSeasonRes.LDR.mean()) else lRegSeasonRes.LDR.mean())/2)\n",
    "        data[\"ROffRtg\"].append((0 if pd.isna(wRegSeasonRes.WOffRtg.mean()) else wRegSeasonRes.WOffRtg.mean()) + (0 if pd.isna(lRegSeasonRes.LOffRtg.mean()) else lRegSeasonRes.LOffRtg.mean())/2)\n",
    "        data[\"RDefRtg\"].append((0 if pd.isna(wRegSeasonRes.WDefRtg.mean()) else wRegSeasonRes.WDefRtg.mean()) + (0 if pd.isna(lRegSeasonRes.LDefRtg.mean()) else lRegSeasonRes.LDefRtg.mean())/2)\n",
    "        data[\"RNetRtg\"].append((0 if pd.isna(wRegSeasonRes.WNetRtg.mean()) else wRegSeasonRes.WNetRtg.mean()) + (0 if pd.isna(lRegSeasonRes.LNetRtg.mean()) else lRegSeasonRes.LNetRtg.mean())/2)\n",
    "        data[\"RPIE\"].append((0 if pd.isna(wRegSeasonRes.WPIE.mean()) else wRegSeasonRes.WPIE.mean()) + (0 if pd.isna(lRegSeasonRes.LPIE.mean()) else lRegSeasonRes.LPIE.mean())/2)"
   ]
  },
  {
   "cell_type": "code",
   "execution_count": 16,
   "metadata": {
    "tags": []
   },
   "outputs": [
    {
     "output_type": "stream",
     "name": "stdout",
     "text": [
      "WTeamID == -1 & Season < 2015\n",
      "WTeamID == -1 & Season >= 2015 & Season < 2020\n",
      "WTeamID == -1 & Season < 2020\n"
     ]
    }
   ],
   "source": [
    "populateDict(train, \"Season < 2015\")\n",
    "populateDict(test, \"Season >= 2015 & Season < 2020\")\n",
    "populateDict(features, \"Season < 2020\")"
   ]
  },
  {
   "cell_type": "code",
   "execution_count": 17,
   "metadata": {},
   "outputs": [],
   "source": [
    "df = pd.DataFrame(train)\n",
    "dft = pd.DataFrame(test)"
   ]
  },
  {
   "cell_type": "code",
   "execution_count": 18,
   "metadata": {},
   "outputs": [],
   "source": [
    "xTrain = {\"Team1ID\": [], \"Team2ID\": [], \"SeedDiff\":[], \"KPom1Rk\":[],\"1RFGM\":[], \"1RFG%\": [],\"1RPts\": [],\"1RTS%\": [],\"1RPos\": [],\"1ROffRtg\": [], \"1RDR\":[], \"1RAst\":[], \"1RDefRtg\": [],\"1RPIE\": [], \"1RNetRtg\":[], \"1TFGM\":[], \"1TFG%\": [],\"1TPts\": [],\"1TTS%\": [],\"1TPos\": [],\"1TOffRtg\": [], \"1TDR\":[], \"1TAst\":[], \"1TDefRtg\": [],\"1TPIE\": [], \"1TNetRtg\":[], \"KPom2Rk\":[], \"2RFGM\":[], \"2RFG%\": [],\"2RPts\": [],\"2RTS%\": [],\"2RPos\": [],\"2ROffRtg\": [], \"2RDR\":[], \"2RAst\":[], \"2RDefRtg\": [],\"2RPIE\": [], \"2RNetRtg\":[], \"2TFGM\":[], \"2TFG%\": [],\"2TPts\": [],\"2TTS%\": [],\"2TPos\": [],\"2TOffRtg\": [], \"2TDR\":[], \"2TLst\":[], \"2TDefRtg\": [],\"2TPIE\": [], \"2TNetRtg\":[]}\n",
    "xTest = {\"Team1ID\": [], \"Team2ID\": [], \"SeedDiff\":[], \"KPom1Rk\":[],\"1RFGM\":[], \"1RFG%\": [],\"1RPts\": [],\"1RTS%\": [],\"1RPos\": [],\"1ROffRtg\": [], \"1RDR\":[], \"1RAst\":[], \"1RDefRtg\": [],\"1RPIE\": [], \"1RNetRtg\":[], \"1TFGM\":[], \"1TFG%\": [],\"1TPts\": [],\"1TTS%\": [],\"1TPos\": [],\"1TOffRtg\": [], \"1TDR\":[], \"1TAst\":[], \"1TDefRtg\": [],\"1TPIE\": [], \"1TNetRtg\":[], \"KPom2Rk\":[], \"2RFGM\":[], \"2RFG%\": [],\"2RPts\": [],\"2RTS%\": [],\"2RPos\": [],\"2ROffRtg\": [], \"2RDR\":[], \"2RAst\":[], \"2RDefRtg\": [],\"2RPIE\": [], \"2RNetRtg\":[], \"2TFGM\":[], \"2TFG%\": [],\"2TPts\": [],\"2TTS%\": [],\"2TPos\": [],\"2TOffRtg\": [], \"2TDR\":[], \"2TLst\":[], \"2TDefRtg\": [],\"2TPIE\": [], \"2TNetRtg\":[]}\n",
    "yTrain = []\n",
    "yTest = []"
   ]
  },
  {
   "cell_type": "code",
   "execution_count": 19,
   "metadata": {},
   "outputs": [],
   "source": [
    "def buildDataSet(data, label, func):\n",
    "    dfTrain = df.set_index(\"TeamID\")\n",
    "    dfTest = dft.set_index(\"TeamID\")\n",
    "    for index, row in dTourneyResults.iterrows():\n",
    "        if row.WTeamID in dfTrain.index and row.LTeamID in dfTrain.index and func(row.Season):\n",
    "            flipIdx = np.random.randint(2) # randomize order of teams\n",
    "            label.append(flipIdx)\n",
    "            if(flipIdx):\n",
    "                data[\"Team1ID\"].append(row.WTeamID)\n",
    "                data[\"Team2ID\"].append(row.LTeamID)\n",
    "            else:\n",
    "                data[\"Team1ID\"].append(row.LTeamID)\n",
    "                data[\"Team2ID\"].append(row.WTeamID)\n",
    "            data['SeedDiff'].append(row.WSeed - row.LSeed)\n",
    "            team1 = dfTrain.loc[row.WTeamID].to_list() \n",
    "            team2 = dfTrain.loc[row.LTeamID].to_list()\n",
    "            keys = [*xTrain][3:]\n",
    "            i = 0\n",
    "            if flipIdx:\n",
    "                for val in team1:\n",
    "                    data[keys[i]].append(val)\n",
    "                    i+=1\n",
    "                for val in team2:\n",
    "                    data[keys[i]].append(val)\n",
    "                    i+=1\n",
    "            else:\n",
    "                for val in team2:\n",
    "                    data[keys[i]].append(val)\n",
    "                    i+=1\n",
    "                for val in team1:\n",
    "                    data[keys[i]].append(val)\n",
    "                    i+=1\n"
   ]
  },
  {
   "cell_type": "code",
   "execution_count": 20,
   "metadata": {},
   "outputs": [],
   "source": [
    "buildDataSet(xTrain, yTrain, lambda x: x < 2015)\n",
    "buildDataSet(xTest, yTest, lambda x: x >= 2015 and x < 2020)"
   ]
  },
  {
   "cell_type": "code",
   "execution_count": 21,
   "metadata": {},
   "outputs": [],
   "source": [
    "xTrainDf = pd.DataFrame(xTrain)\n",
    "yTrainDf = np.array(yTrain)\n",
    "xTestDf = pd.DataFrame(xTest)\n",
    "yTestDf = np.array(yTest)\n",
    "featuresDf = pd.DataFrame(features)"
   ]
  },
  {
   "cell_type": "code",
   "execution_count": 22,
   "metadata": {},
   "outputs": [
    {
     "output_type": "execute_result",
     "data": {
      "text/plain": [
       "     Team1ID  Team2ID  SeedDiff  KPom1Rk      1RFGM     1RFG%       1RPts  \\\n",
       "1       1112     1436     -15.0     44.0  39.619194  0.694047  112.913812   \n",
       "2       1272     1113       3.0     40.0  38.955023  0.668454  111.194701   \n",
       "4       1143     1301      -1.0    136.0  39.032336  0.698479  108.776182   \n",
       "5       1140     1163      -7.0     22.0  39.897170  0.696311  113.916038   \n",
       "6       1181     1161     -11.0     34.0  40.100247  0.683338  116.648246   \n",
       "..       ...      ...       ...      ...        ...       ...         ...   \n",
       "775     1163     1277       3.0     18.0  39.560047  0.678663  111.103188   \n",
       "776     1276     1246       6.0      2.0  36.223900  0.679794  102.515103   \n",
       "777     1163     1196       6.0     18.0  39.560047  0.678663  111.103188   \n",
       "778     1458     1246       6.0     11.0  35.121338  0.658258  100.686690   \n",
       "779     1246     1163      -1.0     49.0  39.128923  0.697516  110.203752   \n",
       "\n",
       "        1RTS%       1RPos    1ROffRtg  ...     2TFG%       2TPts     2TTS%  \\\n",
       "1    0.846426   98.456563  172.058782  ...  0.605317   93.400000  0.731796   \n",
       "2    0.813046   99.840353  167.184696  ...  0.735139  113.000000  0.914336   \n",
       "4    0.836419   96.745598  168.690528  ...  0.672989  101.571429  0.823626   \n",
       "5    0.849145   99.524758  171.568918  ...  0.682816  111.440476  0.829914   \n",
       "6    0.846821  100.076263  175.147008  ...  0.680474  109.666667  0.876147   \n",
       "..        ...         ...         ...  ...       ...         ...       ...   \n",
       "775  0.813055   98.476645  169.001117  ...  0.677792  105.756410  0.833963   \n",
       "776  0.838517   91.280863  168.626153  ...  0.707756  110.370370  0.847941   \n",
       "777  0.813055   98.476645  169.001117  ...  0.692914  107.310185  0.855764   \n",
       "778  0.815203   88.312240  171.218274  ...  0.707756  110.370370  0.847941   \n",
       "779  0.839289   97.171053  170.213325  ...  0.682816  111.440476  0.829914   \n",
       "\n",
       "         2TPos    2TOffRtg       2TDR      2TLst    2TDefRtg     2TPIE  \\\n",
       "1    91.468800  155.782170  31.100000  19.800000  155.176582  0.727974   \n",
       "2    92.806400  182.493086  34.166667  22.500000  172.110846  0.817646   \n",
       "4    92.733257  165.087419  35.357143  18.500000  153.695755  0.834292   \n",
       "5    96.827429  172.570737  40.083333  19.190476  158.153722  0.879716   \n",
       "6    96.160000  170.505487  41.500000  13.166667  167.459923  0.721630   \n",
       "..         ...         ...        ...        ...         ...       ...   \n",
       "775  94.486892  167.811763  37.445513  22.182692  161.043390  0.820435   \n",
       "776  93.575111  176.391822  35.611111  20.129630  163.615002  0.853536   \n",
       "777  93.558844  171.953837  38.706019  19.518519  154.504904  0.875097   \n",
       "778  93.575111  176.391822  35.611111  20.129630  163.615002  0.853536   \n",
       "779  96.827429  172.570737  40.083333  19.190476  158.153722  0.879716   \n",
       "\n",
       "      2TNetRtg  \n",
       "1     0.605588  \n",
       "2    10.382240  \n",
       "4    11.391663  \n",
       "5    14.417015  \n",
       "6     3.045564  \n",
       "..         ...  \n",
       "775   6.768373  \n",
       "776  12.776820  \n",
       "777  17.448933  \n",
       "778  12.776820  \n",
       "779  14.417015  \n",
       "\n",
       "[676 rows x 49 columns]"
      ],
      "text/html": "<div>\n<style scoped>\n    .dataframe tbody tr th:only-of-type {\n        vertical-align: middle;\n    }\n\n    .dataframe tbody tr th {\n        vertical-align: top;\n    }\n\n    .dataframe thead th {\n        text-align: right;\n    }\n</style>\n<table border=\"1\" class=\"dataframe\">\n  <thead>\n    <tr style=\"text-align: right;\">\n      <th></th>\n      <th>Team1ID</th>\n      <th>Team2ID</th>\n      <th>SeedDiff</th>\n      <th>KPom1Rk</th>\n      <th>1RFGM</th>\n      <th>1RFG%</th>\n      <th>1RPts</th>\n      <th>1RTS%</th>\n      <th>1RPos</th>\n      <th>1ROffRtg</th>\n      <th>...</th>\n      <th>2TFG%</th>\n      <th>2TPts</th>\n      <th>2TTS%</th>\n      <th>2TPos</th>\n      <th>2TOffRtg</th>\n      <th>2TDR</th>\n      <th>2TLst</th>\n      <th>2TDefRtg</th>\n      <th>2TPIE</th>\n      <th>2TNetRtg</th>\n    </tr>\n  </thead>\n  <tbody>\n    <tr>\n      <th>1</th>\n      <td>1112</td>\n      <td>1436</td>\n      <td>-15.0</td>\n      <td>44.0</td>\n      <td>39.619194</td>\n      <td>0.694047</td>\n      <td>112.913812</td>\n      <td>0.846426</td>\n      <td>98.456563</td>\n      <td>172.058782</td>\n      <td>...</td>\n      <td>0.605317</td>\n      <td>93.400000</td>\n      <td>0.731796</td>\n      <td>91.468800</td>\n      <td>155.782170</td>\n      <td>31.100000</td>\n      <td>19.800000</td>\n      <td>155.176582</td>\n      <td>0.727974</td>\n      <td>0.605588</td>\n    </tr>\n    <tr>\n      <th>2</th>\n      <td>1272</td>\n      <td>1113</td>\n      <td>3.0</td>\n      <td>40.0</td>\n      <td>38.955023</td>\n      <td>0.668454</td>\n      <td>111.194701</td>\n      <td>0.813046</td>\n      <td>99.840353</td>\n      <td>167.184696</td>\n      <td>...</td>\n      <td>0.735139</td>\n      <td>113.000000</td>\n      <td>0.914336</td>\n      <td>92.806400</td>\n      <td>182.493086</td>\n      <td>34.166667</td>\n      <td>22.500000</td>\n      <td>172.110846</td>\n      <td>0.817646</td>\n      <td>10.382240</td>\n    </tr>\n    <tr>\n      <th>4</th>\n      <td>1143</td>\n      <td>1301</td>\n      <td>-1.0</td>\n      <td>136.0</td>\n      <td>39.032336</td>\n      <td>0.698479</td>\n      <td>108.776182</td>\n      <td>0.836419</td>\n      <td>96.745598</td>\n      <td>168.690528</td>\n      <td>...</td>\n      <td>0.672989</td>\n      <td>101.571429</td>\n      <td>0.823626</td>\n      <td>92.733257</td>\n      <td>165.087419</td>\n      <td>35.357143</td>\n      <td>18.500000</td>\n      <td>153.695755</td>\n      <td>0.834292</td>\n      <td>11.391663</td>\n    </tr>\n    <tr>\n      <th>5</th>\n      <td>1140</td>\n      <td>1163</td>\n      <td>-7.0</td>\n      <td>22.0</td>\n      <td>39.897170</td>\n      <td>0.696311</td>\n      <td>113.916038</td>\n      <td>0.849145</td>\n      <td>99.524758</td>\n      <td>171.568918</td>\n      <td>...</td>\n      <td>0.682816</td>\n      <td>111.440476</td>\n      <td>0.829914</td>\n      <td>96.827429</td>\n      <td>172.570737</td>\n      <td>40.083333</td>\n      <td>19.190476</td>\n      <td>158.153722</td>\n      <td>0.879716</td>\n      <td>14.417015</td>\n    </tr>\n    <tr>\n      <th>6</th>\n      <td>1181</td>\n      <td>1161</td>\n      <td>-11.0</td>\n      <td>34.0</td>\n      <td>40.100247</td>\n      <td>0.683338</td>\n      <td>116.648246</td>\n      <td>0.846821</td>\n      <td>100.076263</td>\n      <td>175.147008</td>\n      <td>...</td>\n      <td>0.680474</td>\n      <td>109.666667</td>\n      <td>0.876147</td>\n      <td>96.160000</td>\n      <td>170.505487</td>\n      <td>41.500000</td>\n      <td>13.166667</td>\n      <td>167.459923</td>\n      <td>0.721630</td>\n      <td>3.045564</td>\n    </tr>\n    <tr>\n      <th>...</th>\n      <td>...</td>\n      <td>...</td>\n      <td>...</td>\n      <td>...</td>\n      <td>...</td>\n      <td>...</td>\n      <td>...</td>\n      <td>...</td>\n      <td>...</td>\n      <td>...</td>\n      <td>...</td>\n      <td>...</td>\n      <td>...</td>\n      <td>...</td>\n      <td>...</td>\n      <td>...</td>\n      <td>...</td>\n      <td>...</td>\n      <td>...</td>\n      <td>...</td>\n      <td>...</td>\n    </tr>\n    <tr>\n      <th>775</th>\n      <td>1163</td>\n      <td>1277</td>\n      <td>3.0</td>\n      <td>18.0</td>\n      <td>39.560047</td>\n      <td>0.678663</td>\n      <td>111.103188</td>\n      <td>0.813055</td>\n      <td>98.476645</td>\n      <td>169.001117</td>\n      <td>...</td>\n      <td>0.677792</td>\n      <td>105.756410</td>\n      <td>0.833963</td>\n      <td>94.486892</td>\n      <td>167.811763</td>\n      <td>37.445513</td>\n      <td>22.182692</td>\n      <td>161.043390</td>\n      <td>0.820435</td>\n      <td>6.768373</td>\n    </tr>\n    <tr>\n      <th>776</th>\n      <td>1276</td>\n      <td>1246</td>\n      <td>6.0</td>\n      <td>2.0</td>\n      <td>36.223900</td>\n      <td>0.679794</td>\n      <td>102.515103</td>\n      <td>0.838517</td>\n      <td>91.280863</td>\n      <td>168.626153</td>\n      <td>...</td>\n      <td>0.707756</td>\n      <td>110.370370</td>\n      <td>0.847941</td>\n      <td>93.575111</td>\n      <td>176.391822</td>\n      <td>35.611111</td>\n      <td>20.129630</td>\n      <td>163.615002</td>\n      <td>0.853536</td>\n      <td>12.776820</td>\n    </tr>\n    <tr>\n      <th>777</th>\n      <td>1163</td>\n      <td>1196</td>\n      <td>6.0</td>\n      <td>18.0</td>\n      <td>39.560047</td>\n      <td>0.678663</td>\n      <td>111.103188</td>\n      <td>0.813055</td>\n      <td>98.476645</td>\n      <td>169.001117</td>\n      <td>...</td>\n      <td>0.692914</td>\n      <td>107.310185</td>\n      <td>0.855764</td>\n      <td>93.558844</td>\n      <td>171.953837</td>\n      <td>38.706019</td>\n      <td>19.518519</td>\n      <td>154.504904</td>\n      <td>0.875097</td>\n      <td>17.448933</td>\n    </tr>\n    <tr>\n      <th>778</th>\n      <td>1458</td>\n      <td>1246</td>\n      <td>6.0</td>\n      <td>11.0</td>\n      <td>35.121338</td>\n      <td>0.658258</td>\n      <td>100.686690</td>\n      <td>0.815203</td>\n      <td>88.312240</td>\n      <td>171.218274</td>\n      <td>...</td>\n      <td>0.707756</td>\n      <td>110.370370</td>\n      <td>0.847941</td>\n      <td>93.575111</td>\n      <td>176.391822</td>\n      <td>35.611111</td>\n      <td>20.129630</td>\n      <td>163.615002</td>\n      <td>0.853536</td>\n      <td>12.776820</td>\n    </tr>\n    <tr>\n      <th>779</th>\n      <td>1246</td>\n      <td>1163</td>\n      <td>-1.0</td>\n      <td>49.0</td>\n      <td>39.128923</td>\n      <td>0.697516</td>\n      <td>110.203752</td>\n      <td>0.839289</td>\n      <td>97.171053</td>\n      <td>170.213325</td>\n      <td>...</td>\n      <td>0.682816</td>\n      <td>111.440476</td>\n      <td>0.829914</td>\n      <td>96.827429</td>\n      <td>172.570737</td>\n      <td>40.083333</td>\n      <td>19.190476</td>\n      <td>158.153722</td>\n      <td>0.879716</td>\n      <td>14.417015</td>\n    </tr>\n  </tbody>\n</table>\n<p>676 rows × 49 columns</p>\n</div>"
     },
     "metadata": {},
     "execution_count": 22
    }
   ],
   "source": [
    "# Dropping some examples because the local KenPom rankings database (kpom.csv) are not fully completed for all teams in NCAA (will come back to later if needed)\n",
    "xTrainDf = xTrainDf.dropna()\n",
    "xTrainDf"
   ]
  },
  {
   "cell_type": "code",
   "execution_count": 23,
   "metadata": {},
   "outputs": [
    {
     "output_type": "execute_result",
     "data": {
      "text/plain": [
       "     Team1ID  Team2ID  SeedDiff  KPom1Rk      1RFGM     1RFG%       1RPts  \\\n",
       "0       1264     1214       0.0    316.0  36.203854  0.658813  106.034899   \n",
       "1       1279     1140       0.0     48.0  38.829898  0.673646  108.755197   \n",
       "2       1173     1129       0.0     79.0  36.154495  0.669432  103.349847   \n",
       "3       1316     1352       0.0    306.0  35.570652  0.680382  101.303486   \n",
       "5       1459     1116      -7.0    124.0  36.960666  0.682775  104.676882   \n",
       "..       ...      ...       ...      ...        ...       ...         ...   \n",
       "330     1120     1246       3.0     64.0  37.708757  0.678711  107.144804   \n",
       "331     1277     1181       1.0     55.0  37.830013  0.701327  105.974332   \n",
       "332     1403     1277       1.0     23.0  39.198987  0.696059  110.346383   \n",
       "333     1438     1120      -4.0     12.0  37.023027  0.667545  105.454973   \n",
       "334     1403     1438      -2.0     23.0  39.198987  0.696059  110.346383   \n",
       "\n",
       "        1RTS%      1RPos    1ROffRtg  ...     2TFG%       2TPts     2TTS%  \\\n",
       "0    0.809423  97.400628  163.115519  ...  0.161760   23.500000  0.185979   \n",
       "1    0.815100  97.191383  167.694035  ...  0.668517  119.166667  0.841622   \n",
       "2    0.818579  93.270777  166.246239  ...  0.243012   33.000000  0.274310   \n",
       "3    0.820863  95.753815  158.599637  ...  0.202459   33.000000  0.247855   \n",
       "5    0.829216  94.030488  167.322868  ...  0.749542  118.000000  0.936229   \n",
       "..        ...        ...         ...  ...       ...         ...       ...   \n",
       "330  0.821908  97.771872  164.311175  ...  0.707756  110.370370  0.847941   \n",
       "331  0.842817  93.696924  169.459016  ...  0.657594  107.568182  0.835085   \n",
       "332  0.833741  99.383619  166.343883  ...  0.677792  105.756410  0.833963   \n",
       "333  0.818525  95.092339  166.365956  ...  0.647870  105.500000  0.798108   \n",
       "334  0.833741  99.383619  166.343883  ...  0.723566  107.000000  0.906561   \n",
       "\n",
       "          2TPos    2TOffRtg       2TDR      2TLst    2TDefRtg     2TPIE  \\\n",
       "0     31.872000   36.859511  11.750000   2.750000   61.408001  0.061225   \n",
       "1    105.642667  169.534429  38.055556  22.583333  158.764029  0.788924   \n",
       "2     30.528000   54.468020   9.500000   7.250000   63.847384  0.203423   \n",
       "3     33.878400   48.794889  11.000000   6.000000   57.102114  0.192000   \n",
       "5     93.216000  189.474696  33.166667  18.833333  180.842383  0.804023   \n",
       "..          ...         ...        ...        ...         ...       ...   \n",
       "330   93.575111  176.391822  35.611111  20.129630  163.615002  0.853536   \n",
       "331   94.990545  170.818976  37.068182  18.265152  153.080328  0.888910   \n",
       "332   94.486892  167.811763  37.445513  22.182692  161.043390  0.820435   \n",
       "333   97.920000  161.435692  35.500000  18.500000  160.896432  0.805085   \n",
       "334   87.782400  183.839655  40.166667  19.500000  156.404372  0.873462   \n",
       "\n",
       "      2TNetRtg  \n",
       "0   -24.548490  \n",
       "1    10.770400  \n",
       "2    -9.379365  \n",
       "3    -8.307226  \n",
       "5     8.632313  \n",
       "..         ...  \n",
       "330  12.776820  \n",
       "331  17.738648  \n",
       "332   6.768373  \n",
       "333   0.539260  \n",
       "334  27.435282  \n",
       "\n",
       "[289 rows x 49 columns]"
      ],
      "text/html": "<div>\n<style scoped>\n    .dataframe tbody tr th:only-of-type {\n        vertical-align: middle;\n    }\n\n    .dataframe tbody tr th {\n        vertical-align: top;\n    }\n\n    .dataframe thead th {\n        text-align: right;\n    }\n</style>\n<table border=\"1\" class=\"dataframe\">\n  <thead>\n    <tr style=\"text-align: right;\">\n      <th></th>\n      <th>Team1ID</th>\n      <th>Team2ID</th>\n      <th>SeedDiff</th>\n      <th>KPom1Rk</th>\n      <th>1RFGM</th>\n      <th>1RFG%</th>\n      <th>1RPts</th>\n      <th>1RTS%</th>\n      <th>1RPos</th>\n      <th>1ROffRtg</th>\n      <th>...</th>\n      <th>2TFG%</th>\n      <th>2TPts</th>\n      <th>2TTS%</th>\n      <th>2TPos</th>\n      <th>2TOffRtg</th>\n      <th>2TDR</th>\n      <th>2TLst</th>\n      <th>2TDefRtg</th>\n      <th>2TPIE</th>\n      <th>2TNetRtg</th>\n    </tr>\n  </thead>\n  <tbody>\n    <tr>\n      <th>0</th>\n      <td>1264</td>\n      <td>1214</td>\n      <td>0.0</td>\n      <td>316.0</td>\n      <td>36.203854</td>\n      <td>0.658813</td>\n      <td>106.034899</td>\n      <td>0.809423</td>\n      <td>97.400628</td>\n      <td>163.115519</td>\n      <td>...</td>\n      <td>0.161760</td>\n      <td>23.500000</td>\n      <td>0.185979</td>\n      <td>31.872000</td>\n      <td>36.859511</td>\n      <td>11.750000</td>\n      <td>2.750000</td>\n      <td>61.408001</td>\n      <td>0.061225</td>\n      <td>-24.548490</td>\n    </tr>\n    <tr>\n      <th>1</th>\n      <td>1279</td>\n      <td>1140</td>\n      <td>0.0</td>\n      <td>48.0</td>\n      <td>38.829898</td>\n      <td>0.673646</td>\n      <td>108.755197</td>\n      <td>0.815100</td>\n      <td>97.191383</td>\n      <td>167.694035</td>\n      <td>...</td>\n      <td>0.668517</td>\n      <td>119.166667</td>\n      <td>0.841622</td>\n      <td>105.642667</td>\n      <td>169.534429</td>\n      <td>38.055556</td>\n      <td>22.583333</td>\n      <td>158.764029</td>\n      <td>0.788924</td>\n      <td>10.770400</td>\n    </tr>\n    <tr>\n      <th>2</th>\n      <td>1173</td>\n      <td>1129</td>\n      <td>0.0</td>\n      <td>79.0</td>\n      <td>36.154495</td>\n      <td>0.669432</td>\n      <td>103.349847</td>\n      <td>0.818579</td>\n      <td>93.270777</td>\n      <td>166.246239</td>\n      <td>...</td>\n      <td>0.243012</td>\n      <td>33.000000</td>\n      <td>0.274310</td>\n      <td>30.528000</td>\n      <td>54.468020</td>\n      <td>9.500000</td>\n      <td>7.250000</td>\n      <td>63.847384</td>\n      <td>0.203423</td>\n      <td>-9.379365</td>\n    </tr>\n    <tr>\n      <th>3</th>\n      <td>1316</td>\n      <td>1352</td>\n      <td>0.0</td>\n      <td>306.0</td>\n      <td>35.570652</td>\n      <td>0.680382</td>\n      <td>101.303486</td>\n      <td>0.820863</td>\n      <td>95.753815</td>\n      <td>158.599637</td>\n      <td>...</td>\n      <td>0.202459</td>\n      <td>33.000000</td>\n      <td>0.247855</td>\n      <td>33.878400</td>\n      <td>48.794889</td>\n      <td>11.000000</td>\n      <td>6.000000</td>\n      <td>57.102114</td>\n      <td>0.192000</td>\n      <td>-8.307226</td>\n    </tr>\n    <tr>\n      <th>5</th>\n      <td>1459</td>\n      <td>1116</td>\n      <td>-7.0</td>\n      <td>124.0</td>\n      <td>36.960666</td>\n      <td>0.682775</td>\n      <td>104.676882</td>\n      <td>0.829216</td>\n      <td>94.030488</td>\n      <td>167.322868</td>\n      <td>...</td>\n      <td>0.749542</td>\n      <td>118.000000</td>\n      <td>0.936229</td>\n      <td>93.216000</td>\n      <td>189.474696</td>\n      <td>33.166667</td>\n      <td>18.833333</td>\n      <td>180.842383</td>\n      <td>0.804023</td>\n      <td>8.632313</td>\n    </tr>\n    <tr>\n      <th>...</th>\n      <td>...</td>\n      <td>...</td>\n      <td>...</td>\n      <td>...</td>\n      <td>...</td>\n      <td>...</td>\n      <td>...</td>\n      <td>...</td>\n      <td>...</td>\n      <td>...</td>\n      <td>...</td>\n      <td>...</td>\n      <td>...</td>\n      <td>...</td>\n      <td>...</td>\n      <td>...</td>\n      <td>...</td>\n      <td>...</td>\n      <td>...</td>\n      <td>...</td>\n      <td>...</td>\n    </tr>\n    <tr>\n      <th>330</th>\n      <td>1120</td>\n      <td>1246</td>\n      <td>3.0</td>\n      <td>64.0</td>\n      <td>37.708757</td>\n      <td>0.678711</td>\n      <td>107.144804</td>\n      <td>0.821908</td>\n      <td>97.771872</td>\n      <td>164.311175</td>\n      <td>...</td>\n      <td>0.707756</td>\n      <td>110.370370</td>\n      <td>0.847941</td>\n      <td>93.575111</td>\n      <td>176.391822</td>\n      <td>35.611111</td>\n      <td>20.129630</td>\n      <td>163.615002</td>\n      <td>0.853536</td>\n      <td>12.776820</td>\n    </tr>\n    <tr>\n      <th>331</th>\n      <td>1277</td>\n      <td>1181</td>\n      <td>1.0</td>\n      <td>55.0</td>\n      <td>37.830013</td>\n      <td>0.701327</td>\n      <td>105.974332</td>\n      <td>0.842817</td>\n      <td>93.696924</td>\n      <td>169.459016</td>\n      <td>...</td>\n      <td>0.657594</td>\n      <td>107.568182</td>\n      <td>0.835085</td>\n      <td>94.990545</td>\n      <td>170.818976</td>\n      <td>37.068182</td>\n      <td>18.265152</td>\n      <td>153.080328</td>\n      <td>0.888910</td>\n      <td>17.738648</td>\n    </tr>\n    <tr>\n      <th>332</th>\n      <td>1403</td>\n      <td>1277</td>\n      <td>1.0</td>\n      <td>23.0</td>\n      <td>39.198987</td>\n      <td>0.696059</td>\n      <td>110.346383</td>\n      <td>0.833741</td>\n      <td>99.383619</td>\n      <td>166.343883</td>\n      <td>...</td>\n      <td>0.677792</td>\n      <td>105.756410</td>\n      <td>0.833963</td>\n      <td>94.486892</td>\n      <td>167.811763</td>\n      <td>37.445513</td>\n      <td>22.182692</td>\n      <td>161.043390</td>\n      <td>0.820435</td>\n      <td>6.768373</td>\n    </tr>\n    <tr>\n      <th>333</th>\n      <td>1438</td>\n      <td>1120</td>\n      <td>-4.0</td>\n      <td>12.0</td>\n      <td>37.023027</td>\n      <td>0.667545</td>\n      <td>105.454973</td>\n      <td>0.818525</td>\n      <td>95.092339</td>\n      <td>166.365956</td>\n      <td>...</td>\n      <td>0.647870</td>\n      <td>105.500000</td>\n      <td>0.798108</td>\n      <td>97.920000</td>\n      <td>161.435692</td>\n      <td>35.500000</td>\n      <td>18.500000</td>\n      <td>160.896432</td>\n      <td>0.805085</td>\n      <td>0.539260</td>\n    </tr>\n    <tr>\n      <th>334</th>\n      <td>1403</td>\n      <td>1438</td>\n      <td>-2.0</td>\n      <td>23.0</td>\n      <td>39.198987</td>\n      <td>0.696059</td>\n      <td>110.346383</td>\n      <td>0.833741</td>\n      <td>99.383619</td>\n      <td>166.343883</td>\n      <td>...</td>\n      <td>0.723566</td>\n      <td>107.000000</td>\n      <td>0.906561</td>\n      <td>87.782400</td>\n      <td>183.839655</td>\n      <td>40.166667</td>\n      <td>19.500000</td>\n      <td>156.404372</td>\n      <td>0.873462</td>\n      <td>27.435282</td>\n    </tr>\n  </tbody>\n</table>\n<p>289 rows × 49 columns</p>\n</div>"
     },
     "metadata": {},
     "execution_count": 23
    }
   ],
   "source": [
    "# Dropping some examples because the local KenPom rankings database (kpom.csv) are not fully completed for all teams in NCAA. (will come back to later if needed)\n",
    "xTestDf = xTestDf.dropna()\n",
    "xTestDf"
   ]
  },
  {
   "cell_type": "code",
   "execution_count": 24,
   "metadata": {},
   "outputs": [
    {
     "output_type": "execute_result",
     "data": {
      "text/plain": [
       "     TeamID  KPomRk       RFGM      RFG%        RPts      RTS%        RPos  \\\n",
       "0      1101    95.0  37.037521  0.687191  106.678947  0.849066   97.137787   \n",
       "1      1102   329.0  33.732993  0.702777   98.526697  0.878718   87.830084   \n",
       "2      1103    98.0  37.339606  0.670167  107.703510  0.830761   96.198790   \n",
       "3      1104     8.0  37.068984  0.674509  105.718447  0.820933   95.238882   \n",
       "4      1105   348.0  35.194960  0.627984  103.327104  0.774206  100.790037   \n",
       "..      ...     ...        ...       ...         ...       ...         ...   \n",
       "366    1467   277.0   0.000000  0.000000    0.000000  0.000000    0.000000   \n",
       "367    1468   182.0   0.000000  0.000000    0.000000  0.000000    0.000000   \n",
       "368    1469   331.0   0.000000  0.000000    0.000000  0.000000    0.000000   \n",
       "369    1470   266.0   0.000000  0.000000    0.000000  0.000000    0.000000   \n",
       "370    1471   239.0   0.000000  0.000000    0.000000  0.000000    0.000000   \n",
       "\n",
       "        ROffRtg        RDR       RAst  ...      TFG%        TPts      TTS%  \\\n",
       "0    164.689745  34.402716  20.784211  ...  0.160377   22.000000  0.191638   \n",
       "1    168.851544  32.458701  21.609095  ...  0.237023   30.250000  0.321657   \n",
       "2    167.876059  35.034760  20.924864  ...  0.179439   27.000000  0.220327   \n",
       "3    166.401262  37.494173  18.575994  ...  0.713630  109.866667  0.895353   \n",
       "4    153.975668  37.430552  19.099349  ...  0.194915   34.500000  0.257770   \n",
       "..          ...        ...        ...  ...       ...         ...       ...   \n",
       "366    0.000000   0.000000   0.000000  ...  0.000000    0.000000  0.000000   \n",
       "367    0.000000   0.000000   0.000000  ...  0.000000    0.000000  0.000000   \n",
       "368    0.000000   0.000000   0.000000  ...  0.000000    0.000000  0.000000   \n",
       "369    0.000000   0.000000   0.000000  ...  0.000000    0.000000  0.000000   \n",
       "370    0.000000   0.000000   0.000000  ...  0.000000    0.000000  0.000000   \n",
       "\n",
       "         TPos     TOffRtg        TDR       TAst     TDefRtg      TPIE  \\\n",
       "0    30.91200   35.584886   7.000000   4.500000   65.981131  0.071856   \n",
       "1    28.23360   53.558282   8.250000   7.500000   61.144386  0.216757   \n",
       "2    30.86720   43.862971   9.833333   5.000000   64.273432  0.101787   \n",
       "3    91.01568  180.530587  30.483333  20.533333  179.546199  0.804946   \n",
       "4    34.04160   50.673294   9.500000   8.000000   59.804990  0.199552   \n",
       "..        ...         ...        ...        ...         ...       ...   \n",
       "366   0.00000    0.000000   0.000000   0.000000    0.000000  0.000000   \n",
       "367   0.00000    0.000000   0.000000   0.000000    0.000000  0.000000   \n",
       "368   0.00000    0.000000   0.000000   0.000000    0.000000  0.000000   \n",
       "369   0.00000    0.000000   0.000000   0.000000    0.000000  0.000000   \n",
       "370   0.00000    0.000000   0.000000   0.000000    0.000000  0.000000   \n",
       "\n",
       "       TNetRtg  \n",
       "0   -30.396245  \n",
       "1    -7.586104  \n",
       "2   -20.410461  \n",
       "3     0.984388  \n",
       "4    -9.131696  \n",
       "..         ...  \n",
       "366   0.000000  \n",
       "367   0.000000  \n",
       "368   0.000000  \n",
       "369   0.000000  \n",
       "370   0.000000  \n",
       "\n",
       "[371 rows x 24 columns]"
      ],
      "text/html": "<div>\n<style scoped>\n    .dataframe tbody tr th:only-of-type {\n        vertical-align: middle;\n    }\n\n    .dataframe tbody tr th {\n        vertical-align: top;\n    }\n\n    .dataframe thead th {\n        text-align: right;\n    }\n</style>\n<table border=\"1\" class=\"dataframe\">\n  <thead>\n    <tr style=\"text-align: right;\">\n      <th></th>\n      <th>TeamID</th>\n      <th>KPomRk</th>\n      <th>RFGM</th>\n      <th>RFG%</th>\n      <th>RPts</th>\n      <th>RTS%</th>\n      <th>RPos</th>\n      <th>ROffRtg</th>\n      <th>RDR</th>\n      <th>RAst</th>\n      <th>...</th>\n      <th>TFG%</th>\n      <th>TPts</th>\n      <th>TTS%</th>\n      <th>TPos</th>\n      <th>TOffRtg</th>\n      <th>TDR</th>\n      <th>TAst</th>\n      <th>TDefRtg</th>\n      <th>TPIE</th>\n      <th>TNetRtg</th>\n    </tr>\n  </thead>\n  <tbody>\n    <tr>\n      <th>0</th>\n      <td>1101</td>\n      <td>95.0</td>\n      <td>37.037521</td>\n      <td>0.687191</td>\n      <td>106.678947</td>\n      <td>0.849066</td>\n      <td>97.137787</td>\n      <td>164.689745</td>\n      <td>34.402716</td>\n      <td>20.784211</td>\n      <td>...</td>\n      <td>0.160377</td>\n      <td>22.000000</td>\n      <td>0.191638</td>\n      <td>30.91200</td>\n      <td>35.584886</td>\n      <td>7.000000</td>\n      <td>4.500000</td>\n      <td>65.981131</td>\n      <td>0.071856</td>\n      <td>-30.396245</td>\n    </tr>\n    <tr>\n      <th>1</th>\n      <td>1102</td>\n      <td>329.0</td>\n      <td>33.732993</td>\n      <td>0.702777</td>\n      <td>98.526697</td>\n      <td>0.878718</td>\n      <td>87.830084</td>\n      <td>168.851544</td>\n      <td>32.458701</td>\n      <td>21.609095</td>\n      <td>...</td>\n      <td>0.237023</td>\n      <td>30.250000</td>\n      <td>0.321657</td>\n      <td>28.23360</td>\n      <td>53.558282</td>\n      <td>8.250000</td>\n      <td>7.500000</td>\n      <td>61.144386</td>\n      <td>0.216757</td>\n      <td>-7.586104</td>\n    </tr>\n    <tr>\n      <th>2</th>\n      <td>1103</td>\n      <td>98.0</td>\n      <td>37.339606</td>\n      <td>0.670167</td>\n      <td>107.703510</td>\n      <td>0.830761</td>\n      <td>96.198790</td>\n      <td>167.876059</td>\n      <td>35.034760</td>\n      <td>20.924864</td>\n      <td>...</td>\n      <td>0.179439</td>\n      <td>27.000000</td>\n      <td>0.220327</td>\n      <td>30.86720</td>\n      <td>43.862971</td>\n      <td>9.833333</td>\n      <td>5.000000</td>\n      <td>64.273432</td>\n      <td>0.101787</td>\n      <td>-20.410461</td>\n    </tr>\n    <tr>\n      <th>3</th>\n      <td>1104</td>\n      <td>8.0</td>\n      <td>37.068984</td>\n      <td>0.674509</td>\n      <td>105.718447</td>\n      <td>0.820933</td>\n      <td>95.238882</td>\n      <td>166.401262</td>\n      <td>37.494173</td>\n      <td>18.575994</td>\n      <td>...</td>\n      <td>0.713630</td>\n      <td>109.866667</td>\n      <td>0.895353</td>\n      <td>91.01568</td>\n      <td>180.530587</td>\n      <td>30.483333</td>\n      <td>20.533333</td>\n      <td>179.546199</td>\n      <td>0.804946</td>\n      <td>0.984388</td>\n    </tr>\n    <tr>\n      <th>4</th>\n      <td>1105</td>\n      <td>348.0</td>\n      <td>35.194960</td>\n      <td>0.627984</td>\n      <td>103.327104</td>\n      <td>0.774206</td>\n      <td>100.790037</td>\n      <td>153.975668</td>\n      <td>37.430552</td>\n      <td>19.099349</td>\n      <td>...</td>\n      <td>0.194915</td>\n      <td>34.500000</td>\n      <td>0.257770</td>\n      <td>34.04160</td>\n      <td>50.673294</td>\n      <td>9.500000</td>\n      <td>8.000000</td>\n      <td>59.804990</td>\n      <td>0.199552</td>\n      <td>-9.131696</td>\n    </tr>\n    <tr>\n      <th>...</th>\n      <td>...</td>\n      <td>...</td>\n      <td>...</td>\n      <td>...</td>\n      <td>...</td>\n      <td>...</td>\n      <td>...</td>\n      <td>...</td>\n      <td>...</td>\n      <td>...</td>\n      <td>...</td>\n      <td>...</td>\n      <td>...</td>\n      <td>...</td>\n      <td>...</td>\n      <td>...</td>\n      <td>...</td>\n      <td>...</td>\n      <td>...</td>\n      <td>...</td>\n      <td>...</td>\n    </tr>\n    <tr>\n      <th>366</th>\n      <td>1467</td>\n      <td>277.0</td>\n      <td>0.000000</td>\n      <td>0.000000</td>\n      <td>0.000000</td>\n      <td>0.000000</td>\n      <td>0.000000</td>\n      <td>0.000000</td>\n      <td>0.000000</td>\n      <td>0.000000</td>\n      <td>...</td>\n      <td>0.000000</td>\n      <td>0.000000</td>\n      <td>0.000000</td>\n      <td>0.00000</td>\n      <td>0.000000</td>\n      <td>0.000000</td>\n      <td>0.000000</td>\n      <td>0.000000</td>\n      <td>0.000000</td>\n      <td>0.000000</td>\n    </tr>\n    <tr>\n      <th>367</th>\n      <td>1468</td>\n      <td>182.0</td>\n      <td>0.000000</td>\n      <td>0.000000</td>\n      <td>0.000000</td>\n      <td>0.000000</td>\n      <td>0.000000</td>\n      <td>0.000000</td>\n      <td>0.000000</td>\n      <td>0.000000</td>\n      <td>...</td>\n      <td>0.000000</td>\n      <td>0.000000</td>\n      <td>0.000000</td>\n      <td>0.00000</td>\n      <td>0.000000</td>\n      <td>0.000000</td>\n      <td>0.000000</td>\n      <td>0.000000</td>\n      <td>0.000000</td>\n      <td>0.000000</td>\n    </tr>\n    <tr>\n      <th>368</th>\n      <td>1469</td>\n      <td>331.0</td>\n      <td>0.000000</td>\n      <td>0.000000</td>\n      <td>0.000000</td>\n      <td>0.000000</td>\n      <td>0.000000</td>\n      <td>0.000000</td>\n      <td>0.000000</td>\n      <td>0.000000</td>\n      <td>...</td>\n      <td>0.000000</td>\n      <td>0.000000</td>\n      <td>0.000000</td>\n      <td>0.00000</td>\n      <td>0.000000</td>\n      <td>0.000000</td>\n      <td>0.000000</td>\n      <td>0.000000</td>\n      <td>0.000000</td>\n      <td>0.000000</td>\n    </tr>\n    <tr>\n      <th>369</th>\n      <td>1470</td>\n      <td>266.0</td>\n      <td>0.000000</td>\n      <td>0.000000</td>\n      <td>0.000000</td>\n      <td>0.000000</td>\n      <td>0.000000</td>\n      <td>0.000000</td>\n      <td>0.000000</td>\n      <td>0.000000</td>\n      <td>...</td>\n      <td>0.000000</td>\n      <td>0.000000</td>\n      <td>0.000000</td>\n      <td>0.00000</td>\n      <td>0.000000</td>\n      <td>0.000000</td>\n      <td>0.000000</td>\n      <td>0.000000</td>\n      <td>0.000000</td>\n      <td>0.000000</td>\n    </tr>\n    <tr>\n      <th>370</th>\n      <td>1471</td>\n      <td>239.0</td>\n      <td>0.000000</td>\n      <td>0.000000</td>\n      <td>0.000000</td>\n      <td>0.000000</td>\n      <td>0.000000</td>\n      <td>0.000000</td>\n      <td>0.000000</td>\n      <td>0.000000</td>\n      <td>...</td>\n      <td>0.000000</td>\n      <td>0.000000</td>\n      <td>0.000000</td>\n      <td>0.00000</td>\n      <td>0.000000</td>\n      <td>0.000000</td>\n      <td>0.000000</td>\n      <td>0.000000</td>\n      <td>0.000000</td>\n      <td>0.000000</td>\n    </tr>\n  </tbody>\n</table>\n<p>371 rows × 24 columns</p>\n</div>"
     },
     "metadata": {},
     "execution_count": 24
    }
   ],
   "source": [
    "featuresDf = featuresDf.drop_duplicates()\n",
    "featuresDf"
   ]
  },
  {
   "cell_type": "code",
   "execution_count": 25,
   "metadata": {},
   "outputs": [],
   "source": [
    "# save all relevant datasets to file to avoid processing again\n",
    "featuresDf.to_csv(\"../Data/features.csv\", index=False)\n",
    "xTrainDf.to_csv(\"../Data/xTrain.csv\", index=False)\n",
    "np.savetxt(\"../Data/yTrain.csv\", yTrainDf)\n",
    "np.savetxt(\"../Data/yTest.csv\", yTestDf)\n",
    "xTestDf.to_csv(\"../Data/xTest.csv\", index=False)"
   ]
  },
  {
   "source": [
    "To train model, use xTrain.csv as training data, with labels given by yTrain.csv, and test the model with xTest.csv, whose labels are given by yTest.csv. features.csv will be used to perform future predictions (i.e., given two arbitary teams, predict who will win)."
   ],
   "cell_type": "markdown",
   "metadata": {}
  }
 ]
}